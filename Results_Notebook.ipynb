{
 "cells": [
  {
   "cell_type": "markdown",
   "metadata": {},
   "source": [
    "# Election-bots: A Twitter Propaganda Machine\n",
    "## Results\n",
    "\n",
    "This notebook outlines the code used to estimate the results of the research project _Election-bots: A Twitter Propaganda Machine_. It contains descriptive statistics of the sample, word frequency distributions, a probabilistic topic model analysis and discursive influence measures.\n"
   ]
  },
  {
   "cell_type": "code",
   "execution_count": 1,
   "metadata": {},
   "outputs": [],
   "source": [
    "#load libraries\n",
    "import lucem_illud_2020 as lucem\n",
    "import pandas as pd\n",
    "from pandas.plotting import table\n",
    "import numpy as np\n",
    "import random\n",
    "import matplotlib.pyplot as plt\n",
    "import matplotlib.mlab as mlab\n",
    "import scipy\n",
    "import seaborn\n",
    "import sklearn\n",
    "import spacy\n",
    "import graphviz\n",
    "import os.path\n",
    "import wordcloud\n",
    "import nltk\n",
    "import gensim\n",
    "import rope\n",
    "from dit import Distribution\n",
    "from dit.divergences import jensen_shannon_divergence\n"
   ]
  },
  {
   "cell_type": "code",
   "execution_count": 2,
   "metadata": {},
   "outputs": [
    {
     "data": {
      "text/plain": [
       "(335299, 22)"
      ]
     },
     "execution_count": 2,
     "metadata": {},
     "output_type": "execute_result"
    }
   ],
   "source": [
    "# load data\n",
    "days = pd.read_csv(r'.\\Classified\\all.csv')\n",
    "days = days.reset_index().drop(['index','Unnamed: 0'], axis=1)\n",
    "days.shape"
   ]
  },
  {
   "cell_type": "markdown",
   "metadata": {},
   "source": [
    "I classified the sample of 335299 tweets assigning each account a complete automation probability (CAP), using the Botometer API. "
   ]
  },
  {
   "cell_type": "code",
   "execution_count": 91,
   "metadata": {},
   "outputs": [
    {
     "data": {
      "text/plain": [
       "(82298, 25)"
      ]
     },
     "execution_count": 91,
     "metadata": {},
     "output_type": "execute_result"
    }
   ],
   "source": [
    "# get unique accounts\n",
    "accounts = days.drop_duplicates('user_id')\n",
    "accounts.shape"
   ]
  },
  {
   "cell_type": "markdown",
   "metadata": {},
   "source": [
    "The CAP ranges from 0 to 1. A histogram of CAP values in our sample can help us determine the appropiate cutoff point that distinguishes between bot and user accounts."
   ]
  },
  {
   "cell_type": "code",
   "execution_count": 97,
   "metadata": {},
   "outputs": [
    {
     "data": {
      "image/png": "[encoded data removed]",
      "text/plain": [
       "<Figure size 576x432 with 1 Axes>"
      ]
     },
     "metadata": {
      "needs_background": "light"
     },
     "output_type": "display_data"
    }
   ],
   "source": [
    "#%% get quantiles\n",
    "quant_5 = accounts['cap'].quantile(.05)\n",
    "quant_95 = accounts['cap'].quantile(.95)\n",
    "\n",
    "#%% create a histogram of caps\n",
    "num_bins = 40\n",
    "mu_cap = accounts['cap'].mean()\n",
    "plt.figure( figsize=(8,6))\n",
    "n, bins, patches = plt.hist(accounts['cap'], \n",
    "                            num_bins, \n",
    "                            density=1, \n",
    "                            facecolor='tab:purple', \n",
    "                            alpha=0.5,\n",
    "                            edgecolor='grey',\n",
    "                            linewidth=2)\n",
    "plt.axvline(quant_5,ymin=0,ymax=1,linestyle='dashed', c='black',\n",
    "            linewidth=2, label='5th quantile')\n",
    "plt.axvline(quant_95,ymin=0,ymax=1,linestyle='dashed',c='tab:grey',\n",
    "            linewidth=2, label='95th quantile')\n",
    "plt.xticks(np.arange(0, 1, .25))\n",
    "plt.xlabel('CAP score',\n",
    "           fontsize=16)\n",
    "plt.ylabel('Probability Density',\n",
    "           fontsize=16)\n",
    "plt.title('Figure 1: Histogram of CAP Scores\\n $Mean=0.042$',\n",
    "          fontsize=18)\n",
    "plt.legend(loc='best', prop={'size':16})\n",
    "plt.subplots_adjust(left=0.15)\n",
    "plt.savefig('hist_CAP.png', format = 'png', bbox_inches='tight')"
   ]
  },
  {
   "cell_type": "markdown",
   "metadata": {},
   "source": [
    "A majority of the sample consists of accounts with very low CAP probabilities. This is due to the fact that the Botomoter algorithm is designed to minimize false positives. Different use cases of the algorithm have determined the appropiate threshold to minimize the missclassification error rate to be around 0.43. I will be using this threshold as well as a comparison of the top and bottom quantiles of the CAP distribution. "
   ]
  },
  {
   "cell_type": "code",
   "execution_count": 3,
   "metadata": {},
   "outputs": [],
   "source": [
    "#create labels for bot accounts above .043 CAP score\n",
    "days['type'] = ['bot' if x > .43 else \"user\" for x in days['cap']]\n",
    "days['type_n'] = [1 if x > .43 else 0 for x in days['cap']]"
   ]
  },
  {
   "cell_type": "code",
   "execution_count": 4,
   "metadata": {},
   "outputs": [],
   "source": [
    "#filter the bot content\n",
    "bots = days[days['type']=='bot']\n",
    "\n",
    "# filter the user content\n",
    "users = days[days['type']=='user']"
   ]
  },
  {
   "cell_type": "code",
   "execution_count": 7,
   "metadata": {},
   "outputs": [
    {
     "data": {
      "text/html": [
       "<div>\n",
       "<style scoped>\n",
       "    .dataframe tbody tr th:only-of-type {\n",
       "        vertical-align: middle;\n",
       "    }\n",
       "\n",
       "    .dataframe tbody tr th {\n",
       "        vertical-align: top;\n",
       "    }\n",
       "\n",
       "    .dataframe thead th {\n",
       "        text-align: right;\n",
       "    }\n",
       "</style>\n",
       "<table border=\"1\" class=\"dataframe\">\n",
       "  <thead>\n",
       "    <tr style=\"text-align: right;\">\n",
       "      <th></th>\n",
       "      <th>Account Type</th>\n",
       "      <th># of Posts</th>\n",
       "    </tr>\n",
       "  </thead>\n",
       "  <tbody>\n",
       "    <tr>\n",
       "      <th>0</th>\n",
       "      <td>user</td>\n",
       "      <td>321269</td>\n",
       "    </tr>\n",
       "    <tr>\n",
       "      <th>1</th>\n",
       "      <td>bot</td>\n",
       "      <td>14030</td>\n",
       "    </tr>\n",
       "  </tbody>\n",
       "</table>\n",
       "</div>"
      ],
      "text/plain": [
       "  Account Type  # of Posts\n",
       "0         user      321269\n",
       "1          bot       14030"
      ]
     },
     "execution_count": 7,
     "metadata": {},
     "output_type": "execute_result"
    }
   ],
   "source": [
    "#find the number of posts by user vs. nunmber of posts by bot\n",
    "bot_post_user = pd.DataFrame(days['type'].value_counts()).reset_index()\n",
    "bot_post_user = bot_post_user.rename(columns={\"index\":\"Account Type\",\n",
    "                                          \"type\":\"# of Posts\"})\n",
    "bot_post_user"
   ]
  },
  {
   "cell_type": "code",
   "execution_count": 8,
   "metadata": {},
   "outputs": [
    {
     "data": {
      "text/html": [
       "<div>\n",
       "<style scoped>\n",
       "    .dataframe tbody tr th:only-of-type {\n",
       "        vertical-align: middle;\n",
       "    }\n",
       "\n",
       "    .dataframe tbody tr th {\n",
       "        vertical-align: top;\n",
       "    }\n",
       "\n",
       "    .dataframe thead th {\n",
       "        text-align: right;\n",
       "    }\n",
       "</style>\n",
       "<table border=\"1\" class=\"dataframe\">\n",
       "  <thead>\n",
       "    <tr style=\"text-align: right;\">\n",
       "      <th></th>\n",
       "      <th>Account Type</th>\n",
       "      <th># of Accounts</th>\n",
       "    </tr>\n",
       "  </thead>\n",
       "  <tbody>\n",
       "    <tr>\n",
       "      <th>0</th>\n",
       "      <td>user</td>\n",
       "      <td>80561</td>\n",
       "    </tr>\n",
       "    <tr>\n",
       "      <th>1</th>\n",
       "      <td>bot</td>\n",
       "      <td>1737</td>\n",
       "    </tr>\n",
       "  </tbody>\n",
       "</table>\n",
       "</div>"
      ],
      "text/plain": [
       "  Account Type  # of Accounts\n",
       "0         user          80561\n",
       "1          bot           1737"
      ]
     },
     "execution_count": 8,
     "metadata": {},
     "output_type": "execute_result"
    }
   ],
   "source": [
    "#number of bots vs users\n",
    "bot_num_user = days.drop_duplicates(subset='user_id')['type'].value_counts()\n",
    "bot_num_user = pd.DataFrame(bot_num_user).reset_index()\n",
    "bot_num_user = bot_num_user.rename(columns={\"index\":\"Account Type\",\n",
    "                                          \"type\":\"# of Accounts\"})\n",
    "bot_num_user"
   ]
  },
  {
   "cell_type": "code",
   "execution_count": 9,
   "metadata": {},
   "outputs": [
    {
     "name": "stdout",
     "output_type": "stream",
     "text": [
      "0.021106223723541276 0.9788937762764587 0.0418432503526703 0.9581567496473297 0.9524573685788351 type\n",
      "bot      13480.0\n",
      "user    270055.0\n",
      "Name: is_retweet, dtype: float64 0.010625144888339386 0.9893748551116606 550 51214\n"
     ]
    }
   ],
   "source": [
    "#calculate...\n",
    "#proportion of bot  and user accounts in sample\n",
    "bot_proportion = days.drop_duplicates(subset='user_id')['type_n'].mean()\n",
    "user_proportion = 1-bot_proportion\n",
    "#proportion of posts from bot and user accounts in sample\n",
    "bot_post_proportion = np.mean(days['type_n'])\n",
    "user_post_proportion = 1-bot_post_proportion\n",
    "#proportion of retweets by users and bots\n",
    "prop_retweets_bot = days[days['is_retweet']==True]['type_n'].mean()\n",
    "prop_retweets_user = 1 - prop_retweets_bot\n",
    "#number of retweets by users and bots\n",
    "num_retweets = days.groupby(['type'])['is_retweet'].sum()\n",
    "#proportion of tweets by users and bots\n",
    "prop_tweets_bot = days[days['is_retweet']==False]['type_n'].mean()\n",
    "prop_tweets_user = 1 - prop_tweets_bot\n",
    "#number of tweets by user and bots\n",
    "num_tweets_bot = days[days['is_retweet']==False]['type_n'].sum()\n",
    "num_tweets_user = days[days['is_retweet']==False]['type_n'].count() - num_tweets_bot\n",
    "\n",
    "print(bot_proportion,user_proportion,bot_post_proportion,\n",
    "     user_post_proportion,prop_retweets_user,num_retweets,\n",
    "     prop_tweets_bot,prop_tweets_user, num_tweets_bot,num_tweets_user)"
   ]
  },
  {
   "cell_type": "code",
   "execution_count": 10,
   "metadata": {},
   "outputs": [],
   "source": [
    "#combine all estimates into a dataframe, starting with number of accounts by type\n",
    "bot_vs_user = bot_num_user\n",
    "#add the number of accounts as a percentage\n",
    "bot_vs_user['# of Accounts (Percent)'] = [round(user_proportion,3),\n",
    "                                           round(bot_proportion,3)]\n",
    "bot_vs_user['# of Accounts (Percent)'] = bot_vs_user['# of Accounts (Percent)'].mul(100)\n",
    "bot_vs_user['# of Accounts (Percent)'] = bot_vs_user['# of Accounts (Percent)'].round(3).astype(str).add('%')\n",
    "#merge the number of posts by type of account\n",
    "bot_vs_user = pd.merge(bot_vs_user,bot_post_user,how='left',on='Account Type')\n",
    "#add the number of posts as a percentage\n",
    "bot_vs_user['# of Posts (Percent)'] = [round(user_post_proportion,3),\n",
    "                                         round(bot_post_proportion,3)]\n",
    "bot_vs_user['# of Posts (Percent)'] = bot_vs_user['# of Posts (Percent)'].mul(100).astype(str).add('%')\n",
    "#add the number of tweets\n",
    "bot_vs_user['# of Tweets']=[num_tweets_user, num_tweets_bot]\n",
    "#add the number of tweets as a percentage\n",
    "bot_vs_user['# of Tweets (Percent)']=[prop_tweets_user,prop_tweets_bot]\n",
    "bot_vs_user['# of Tweets (Percent)']= bot_vs_user['# of Tweets (Percent)'].mul(100).round(1).astype(str).add('%')\n",
    "#add the number of retweets\n",
    "bot_vs_user['# of Retweets']=[num_retweets[1], num_retweets[0]]\n",
    "#add the number of retweets as a percentage\n",
    "bot_vs_user['# of Retweets (Percent)']=[prop_retweets_user,prop_retweets_bot]\n",
    "bot_vs_user['# of Retweets (Percent)']= bot_vs_user['# of Retweets (Percent)'].mul(100).round(1).astype(str).add('%')\n"
   ]
  },
  {
   "cell_type": "code",
   "execution_count": 11,
   "metadata": {},
   "outputs": [],
   "source": [
    "#average number of posts comparison\n",
    "avg_posts = days.groupby(['user_id','type'])['type'].count().groupby('type').mean()\n",
    "bot_vs_user[\"Average Posts (Per Account)\"] = [round(avg_posts[1],2),\n",
    "                                                round(avg_posts[0],2)]\n",
    "\n",
    "#average number of retweets comparison\n",
    "avg_retweets = days.groupby(['user_id','type'])['is_retweet'].sum().groupby('type').mean()\n",
    "\n",
    "#average number of tweets comparison\n",
    "avg_tweets = avg_posts - avg_retweets\n",
    "\n",
    "#add values to dataframe\n",
    "bot_vs_user[\"Average Tweets (Per Account)\"]=[round(avg_tweets[1],2),\n",
    "                                                round(avg_tweets[0],2)]\n",
    "bot_vs_user[\"Average Retweets (Per Account)\"]=[round(avg_retweets[1],2),\n",
    "                                                round(avg_retweets[0],2)]"
   ]
  },
  {
   "cell_type": "code",
   "execution_count": 12,
   "metadata": {},
   "outputs": [],
   "source": [
    "# re-organize dataframe into a table\n",
    "bot_vs_user = bot_vs_user.T\n",
    "bot_vs_user.columns = bot_vs_user.iloc[0]\n",
    "bot_vs_user = bot_vs_user[bot_vs_user['user']!='user']"
   ]
  },
  {
   "cell_type": "code",
   "execution_count": 13,
   "metadata": {},
   "outputs": [
    {
     "data": {
      "text/html": [
       "<div>\n",
       "<style scoped>\n",
       "    .dataframe tbody tr th:only-of-type {\n",
       "        vertical-align: middle;\n",
       "    }\n",
       "\n",
       "    .dataframe tbody tr th {\n",
       "        vertical-align: top;\n",
       "    }\n",
       "\n",
       "    .dataframe thead th {\n",
       "        text-align: right;\n",
       "    }\n",
       "</style>\n",
       "<table border=\"1\" class=\"dataframe\">\n",
       "  <thead>\n",
       "    <tr style=\"text-align: right;\">\n",
       "      <th>Account Type</th>\n",
       "      <th>user</th>\n",
       "      <th>bot</th>\n",
       "    </tr>\n",
       "  </thead>\n",
       "  <tbody>\n",
       "    <tr>\n",
       "      <th># of Accounts</th>\n",
       "      <td>80561</td>\n",
       "      <td>1737</td>\n",
       "    </tr>\n",
       "    <tr>\n",
       "      <th># of Accounts (Percent)</th>\n",
       "      <td>97.9%</td>\n",
       "      <td>2.1%</td>\n",
       "    </tr>\n",
       "    <tr>\n",
       "      <th># of Posts</th>\n",
       "      <td>321269</td>\n",
       "      <td>14030</td>\n",
       "    </tr>\n",
       "    <tr>\n",
       "      <th># of Posts (Percent)</th>\n",
       "      <td>95.8%</td>\n",
       "      <td>4.2%</td>\n",
       "    </tr>\n",
       "    <tr>\n",
       "      <th># of Tweets</th>\n",
       "      <td>51214</td>\n",
       "      <td>550</td>\n",
       "    </tr>\n",
       "    <tr>\n",
       "      <th># of Tweets (Percent)</th>\n",
       "      <td>98.9%</td>\n",
       "      <td>1.1%</td>\n",
       "    </tr>\n",
       "    <tr>\n",
       "      <th># of Retweets</th>\n",
       "      <td>270055</td>\n",
       "      <td>13480</td>\n",
       "    </tr>\n",
       "    <tr>\n",
       "      <th># of Retweets (Percent)</th>\n",
       "      <td>95.2%</td>\n",
       "      <td>4.8%</td>\n",
       "    </tr>\n",
       "    <tr>\n",
       "      <th>Average Posts (Per Account)</th>\n",
       "      <td>3.97</td>\n",
       "      <td>6.78</td>\n",
       "    </tr>\n",
       "    <tr>\n",
       "      <th>Average Tweets (Per Account)</th>\n",
       "      <td>0.63</td>\n",
       "      <td>0.27</td>\n",
       "    </tr>\n",
       "    <tr>\n",
       "      <th>Average Retweets (Per Account)</th>\n",
       "      <td>3.34</td>\n",
       "      <td>6.52</td>\n",
       "    </tr>\n",
       "  </tbody>\n",
       "</table>\n",
       "</div>"
      ],
      "text/plain": [
       "Account Type                      user    bot\n",
       "# of Accounts                    80561   1737\n",
       "# of Accounts (Percent)          97.9%   2.1%\n",
       "# of Posts                      321269  14030\n",
       "# of Posts (Percent)             95.8%   4.2%\n",
       "# of Tweets                      51214    550\n",
       "# of Tweets (Percent)            98.9%   1.1%\n",
       "# of Retweets                   270055  13480\n",
       "# of Retweets (Percent)          95.2%   4.8%\n",
       "Average Posts (Per Account)       3.97   6.78\n",
       "Average Tweets (Per Account)      0.63   0.27\n",
       "Average Retweets (Per Account)    3.34   6.52"
      ]
     },
     "execution_count": 13,
     "metadata": {},
     "output_type": "execute_result"
    }
   ],
   "source": [
    "bot_vs_user"
   ]
  },
  {
   "cell_type": "markdown",
   "metadata": {},
   "source": [
    "The above table shows how even though only a small part of the accounts on Twitter are bots (4.8%), these accounts are responsible for more than 9% of the overall content. These accounts are also highly active in terms of retweets (6.37 per account, on average), compared to original tweets (0.27 per account, on average). "
   ]
  },
  {
   "cell_type": "code",
   "execution_count": 13,
   "metadata": {},
   "outputs": [
    {
     "data": {
      "text/plain": [
       "(870, 25)"
      ]
     },
     "execution_count": 13,
     "metadata": {},
     "output_type": "execute_result"
    }
   ],
   "source": [
    "# identify the top quartile of the CAP distribution\n",
    "fake_users = bots[bots['cap'] > .75]\n",
    "\n",
    "fake_users.shape"
   ]
  },
  {
   "cell_type": "code",
   "execution_count": 44,
   "metadata": {},
   "outputs": [
    {
     "data": {
      "text/plain": [
       "(849, 24)"
      ]
     },
     "execution_count": 44,
     "metadata": {},
     "output_type": "execute_result"
    }
   ],
   "source": [
    "#create a proportional dataframe for users at the bottom of the CAP distribution\n",
    "\n",
    "quant_1 = accounts['cap'].quantile(.01)\n",
    "low_cap = users[users['cap'] < quant_1]\n",
    "low_cap.shape"
   ]
  },
  {
   "cell_type": "code",
   "execution_count": 30,
   "metadata": {},
   "outputs": [
    {
     "name": "stderr",
     "output_type": "stream",
     "text": [
      "C:\\Users\\pauli\\Anaconda3\\lib\\site-packages\\ipykernel_launcher.py:2: SettingWithCopyWarning: \n",
      "A value is trying to be set on a copy of a slice from a DataFrame.\n",
      "Try using .loc[row_indexer,col_indexer] = value instead\n",
      "\n",
      "See the caveats in the documentation: https://pandas.pydata.org/pandas-docs/stable/user_guide/indexing.html#returning-a-view-versus-a-copy\n",
      "  \n",
      "C:\\Users\\pauli\\Anaconda3\\lib\\site-packages\\ipykernel_launcher.py:3: SettingWithCopyWarning: \n",
      "A value is trying to be set on a copy of a slice from a DataFrame.\n",
      "Try using .loc[row_indexer,col_indexer] = value instead\n",
      "\n",
      "See the caveats in the documentation: https://pandas.pydata.org/pandas-docs/stable/user_guide/indexing.html#returning-a-view-versus-a-copy\n",
      "  This is separate from the ipykernel package so we can avoid doing imports until\n"
     ]
    }
   ],
   "source": [
    "#normalizing text data for fake users\n",
    "fake_users['tokenized_text'] = fake_users['text'].apply(lambda x: lucem.word_tokenize(x))\n",
    "fake_users['normalized_text'] = fake_users['tokenized_text'].apply(lambda x: lucem.normalizeTokens(x,\n",
    "                                                                                                   extra_stop=['>',\n",
    "                                                                                                               '<',\n",
    "                                                                                                               'u+0001f1fa><u+0001f1f8',\n",
    "                                                                                                               'amp'])) \n",
    " \n",
    "    "
   ]
  },
  {
   "cell_type": "code",
   "execution_count": 31,
   "metadata": {},
   "outputs": [
    {
     "name": "stderr",
     "output_type": "stream",
     "text": [
      "C:\\Users\\pauli\\Anaconda3\\lib\\site-packages\\ipykernel_launcher.py:2: SettingWithCopyWarning: \n",
      "A value is trying to be set on a copy of a slice from a DataFrame.\n",
      "Try using .loc[row_indexer,col_indexer] = value instead\n",
      "\n",
      "See the caveats in the documentation: https://pandas.pydata.org/pandas-docs/stable/user_guide/indexing.html#returning-a-view-versus-a-copy\n",
      "  \n",
      "C:\\Users\\pauli\\Anaconda3\\lib\\site-packages\\ipykernel_launcher.py:3: SettingWithCopyWarning: \n",
      "A value is trying to be set on a copy of a slice from a DataFrame.\n",
      "Try using .loc[row_indexer,col_indexer] = value instead\n",
      "\n",
      "See the caveats in the documentation: https://pandas.pydata.org/pandas-docs/stable/user_guide/indexing.html#returning-a-view-versus-a-copy\n",
      "  This is separate from the ipykernel package so we can avoid doing imports until\n"
     ]
    }
   ],
   "source": [
    "#normalizing text data for users\n",
    "low_cap['tokenized_text'] = low_cap['text'].apply(lambda x: lucem.word_tokenize(x))\n",
    "low_cap['normalized_text'] = low_cap['tokenized_text'].apply(lambda x: lucem.normalizeTokens(x,\n",
    "                                                                                             extra_stop=['>',\n",
    "                                                                                                         '<',\n",
    "                                                                                                         'u+0001f1fa><u+0001f1f8]',\n",
    "                                                                                                         'amp']))\n"
   ]
  },
  {
   "cell_type": "code",
   "execution_count": 32,
   "metadata": {},
   "outputs": [],
   "source": [
    "#counting top words for bots\n",
    "fake_countsDict = {}\n",
    "for word in fake_users['normalized_text'].sum():\n",
    "    if word in fake_countsDict:\n",
    "        fake_countsDict[word] += 1\n",
    "    else:\n",
    "        fake_countsDict[word] = 1\n",
    "fake_word_counts = sorted(fake_countsDict.items(), key = lambda x : x[1], reverse = True)"
   ]
  },
  {
   "cell_type": "code",
   "execution_count": 33,
   "metadata": {},
   "outputs": [
    {
     "data": {
      "image/png": "[encoded data removed]",
      "text/plain": [
       "<Figure size 576x432 with 1 Axes>"
      ]
     },
     "metadata": {
      "needs_background": "light"
     },
     "output_type": "display_data"
    }
   ],
   "source": [
    "#plotting the top bot words\n",
    "fake_wordCounts = pd.DataFrame(fake_word_counts,columns=['words','count'])\n",
    "#bot_wordCounts.to_csv(r'.\\Word_counts\\bot_wc.csv')\n",
    "top_botWords = fake_wordCounts.iloc[:15,:]\n",
    "fig, ax = plt.subplots(figsize=(8,6))\n",
    "ax.barh(top_botWords['words'],top_botWords['count'],\n",
    "        facecolor='tab:cyan')\n",
    "ax.set_title('Figure 3: Top 15 Words Used in Bot Tweets',\n",
    "            fontsize=20)\n",
    "ax.set_ylabel('Words',\n",
    "             fontsize=18)\n",
    "ax.set_xlabel('Frequency count',\n",
    "             fontsize=18)\n",
    "ax.spines['top'].set_visible(False)\n",
    "ax.spines['right'].set_visible(False)\n",
    "ax.invert_yaxis()\n",
    "plt.savefig(\"bot_wordcount.png\", format = 'png', bbox_inches='tight')"
   ]
  },
  {
   "cell_type": "code",
   "execution_count": 34,
   "metadata": {},
   "outputs": [],
   "source": [
    "#counting top words for low-CAP users\n",
    "lowcap_countsDict = {}\n",
    "for word in low_cap['normalized_text'].sum():\n",
    "    if word in lowcap_countsDict:\n",
    "        lowcap_countsDict[word] += 1\n",
    "    else:\n",
    "        lowcap_countsDict[word] = 1\n",
    "lowcap_word_counts = sorted(lowcap_countsDict.items(), key = lambda x : x[1], reverse = True)"
   ]
  },
  {
   "cell_type": "code",
   "execution_count": 35,
   "metadata": {},
   "outputs": [
    {
     "data": {
      "image/png": "[encoded data removed]",
      "text/plain": [
       "<Figure size 576x432 with 1 Axes>"
      ]
     },
     "metadata": {
      "needs_background": "light"
     },
     "output_type": "display_data"
    }
   ],
   "source": [
    "#plotting the top user words\n",
    "user_wordCounts = pd.DataFrame(lowcap_word_counts,columns=['words','count'])\n",
    "#user_wordCounts.to_csv(r'.\\Word_counts\\user_wc.csv')\n",
    "top_userWords = user_wordCounts.iloc[:15,:]\n",
    "\n",
    "fig, ax = plt.subplots(figsize=(8,6))\n",
    "ax.barh(top_userWords['words'],top_userWords['count'],\n",
    "        facecolor='tab:blue')\n",
    "ax.set_title('Figure 4: Top 15 Words Used in User Tweets',\n",
    "            fontsize=20)\n",
    "ax.set_ylabel('Words',\n",
    "             fontsize=18)\n",
    "ax.set_xlabel('Frequency count',\n",
    "             fontsize=18)\n",
    "ax.spines['top'].set_visible(False)\n",
    "ax.spines['right'].set_visible(False)\n",
    "ax.invert_yaxis()\n",
    "plt.savefig(\"user_wordcount.png\", format = 'png', bbox_inches='tight')"
   ]
  },
  {
   "cell_type": "markdown",
   "metadata": {},
   "source": [
    "This results make it seem like we're comparing exactly the same type of accounts, but let's dig a little deeper to see if we can undercover semantic differences by using bigrams, trigrams and analysis of POS."
   ]
  },
  {
   "cell_type": "code",
   "execution_count": 36,
   "metadata": {},
   "outputs": [],
   "source": [
    "#find the top bigrams for bots\n",
    "botBigrams = nltk.collocations.BigramCollocationFinder.from_words(fake_users['normalized_text'].sum())\n",
    "bigram_measures = nltk.collocations.BigramAssocMeasures()\n",
    "bot_top10_bigrams = botBigrams.score_ngrams(bigram_measures.likelihood_ratio)[:10]\n",
    "bot_top10_bigrams = pd.DataFrame(bot_top10_bigrams, columns=['words','score'])\n",
    "bot_top10_bigrams['words'] = bot_top10_bigrams['words'].apply(lambda x: x[0] + ' ' + x[1])\n",
    "\n"
   ]
  },
  {
   "cell_type": "code",
   "execution_count": 45,
   "metadata": {},
   "outputs": [
    {
     "data": {
      "image/png": "[encoded data removed]",
      "text/plain": [
       "<Figure size 432x432 with 1 Axes>"
      ]
     },
     "metadata": {
      "needs_background": "light"
     },
     "output_type": "display_data"
    }
   ],
   "source": [
    "#plot the top bigrams for bots\n",
    "fig, ax = plt.subplots(figsize=(6,6))\n",
    "ax.barh(bot_top10_bigrams['words'],bot_top10_bigrams['score'],\n",
    "        facecolor='tab:cyan')\n",
    "ax.set_title('Figure 7: Top 10 Bigrams (Bots)',\n",
    "            fontsize=20)\n",
    "ax.set_ylabel('Bigrams',\n",
    "             fontsize=16)\n",
    "ax.set_xlabel('Score',\n",
    "             fontsize=16)\n",
    "ax.spines['top'].set_visible(False)\n",
    "ax.spines['right'].set_visible(False)\n",
    "ax.invert_yaxis()\n",
    "plt.savefig(\"bot_bigrams.png\", format = 'png', bbox_inches='tight')"
   ]
  },
  {
   "cell_type": "code",
   "execution_count": 43,
   "metadata": {},
   "outputs": [],
   "source": [
    "#find the top bigrams for low-cap users\n",
    "userBigrams = nltk.collocations.BigramCollocationFinder.from_words(low_cap['normalized_text'].sum())\n",
    "bigram_measures = nltk.collocations.BigramAssocMeasures()\n",
    "user_top10_bigrams = userBigrams.score_ngrams(bigram_measures.likelihood_ratio)[:10]\n",
    "user_top10_bigrams = pd.DataFrame(user_top10_bigrams, columns=['words','score'])\n",
    "user_top10_bigrams['words'] = user_top10_bigrams['words'].apply(lambda x: x[0] + ' ' + x[1])\n",
    "\n"
   ]
  },
  {
   "cell_type": "code",
   "execution_count": 46,
   "metadata": {},
   "outputs": [
    {
     "data": {
      "image/png": "[encoded data removed]",
      "text/plain": [
       "<Figure size 432x432 with 1 Axes>"
      ]
     },
     "metadata": {
      "needs_background": "light"
     },
     "output_type": "display_data"
    }
   ],
   "source": [
    "#plotting the top user bigrams\n",
    "fig, ax = plt.subplots(figsize=(6,6))\n",
    "ax.barh(user_top10_bigrams['words'],user_top10_bigrams['score'],\n",
    "        facecolor='tab:blue')\n",
    "ax.set_title('Figure 8: Top 10 Bigrams (Users)',\n",
    "            fontsize=20)\n",
    "ax.set_ylabel('Bigrams',\n",
    "             fontsize=16)\n",
    "ax.set_xlabel('Score',\n",
    "             fontsize=16)\n",
    "ax.spines['top'].set_visible(False)\n",
    "ax.spines['right'].set_visible(False)\n",
    "ax.invert_yaxis()\n",
    "plt.savefig(\"user_bigrams.png\", format = 'png', bbox_inches='tight')"
   ]
  },
  {
   "cell_type": "code",
   "execution_count": 48,
   "metadata": {},
   "outputs": [],
   "source": [
    "#find the top trigrams for bots\n",
    "botTrigrams = nltk.collocations.TrigramCollocationFinder.from_words(fake_users['normalized_text'].sum())\n",
    "trigram_measures = nltk.collocations.TrigramAssocMeasures()\n",
    "bot_top15_trigrams = botTrigrams.score_ngrams(trigram_measures.likelihood_ratio)[:10]\n",
    "bot_top15_trigrams = pd.DataFrame(bot_top15_trigrams, columns=['words','score'])\n",
    "bot_top15_trigrams['words'] = bot_top15_trigrams['words'].apply(lambda x: x[0] + ' ' + x[1]+' '+x[2])\n"
   ]
  },
  {
   "cell_type": "code",
   "execution_count": 51,
   "metadata": {},
   "outputs": [
    {
     "data": {
      "image/png": "[encoded data removed]",
      "text/plain": [
       "<Figure size 432x432 with 1 Axes>"
      ]
     },
     "metadata": {
      "needs_background": "light"
     },
     "output_type": "display_data"
    }
   ],
   "source": [
    "#plotting the top bot trigrams\n",
    "fig, ax = plt.subplots(figsize=(6,6))\n",
    "ax.barh(bot_top15_trigrams['words'],bot_top15_trigrams['score'],\n",
    "        facecolor='tab:cyan')\n",
    "ax.set_title('Figure 9: Top 10 Trigrams (Bots)',\n",
    "            fontsize=20)\n",
    "ax.set_ylabel('Trigrams',\n",
    "             fontsize=16)\n",
    "ax.set_xlabel('Score',\n",
    "             fontsize=16)\n",
    "ax.spines['top'].set_visible(False)\n",
    "ax.spines['right'].set_visible(False)\n",
    "ax.invert_yaxis()\n",
    "plt.savefig(\"bot_trigrams.png\", format = 'png', bbox_inches='tight')"
   ]
  },
  {
   "cell_type": "code",
   "execution_count": 52,
   "metadata": {},
   "outputs": [],
   "source": [
    "#find the top bigrams for low-cap users\n",
    "userTrigrams = nltk.collocations.TrigramCollocationFinder.from_words(low_cap['normalized_text'].sum())\n",
    "trigram_measures = nltk.collocations.TrigramAssocMeasures()\n",
    "user_top15_trigrams = userTrigrams.score_ngrams(trigram_measures.likelihood_ratio)[:10]\n",
    "user_top15_trigrams = pd.DataFrame(user_top15_trigrams, columns=['words','score'])\n",
    "user_top15_trigrams['words'] = user_top15_trigrams['words'].apply(lambda x: x[0] + ' ' + x[1]+' '+x[2])"
   ]
  },
  {
   "cell_type": "code",
   "execution_count": 54,
   "metadata": {},
   "outputs": [
    {
     "data": {
      "image/png": "[encoded data removed]",
      "text/plain": [
       "<Figure size 432x432 with 1 Axes>"
      ]
     },
     "metadata": {
      "needs_background": "light"
     },
     "output_type": "display_data"
    }
   ],
   "source": [
    "#plotting the top user bigrams\n",
    "fig, ax = plt.subplots(figsize=(6,6))\n",
    "ax.barh(user_top15_trigrams['words'],user_top15_trigrams['score'],\n",
    "        facecolor='tab:blue')\n",
    "ax.set_title('Figure 10: Top 10 Trigrams (Users)',\n",
    "            fontsize=20)\n",
    "ax.set_ylabel('Trigrams',\n",
    "             fontsize=16)\n",
    "ax.set_xlabel('Score',\n",
    "             fontsize=16)\n",
    "ax.spines['top'].set_visible(False)\n",
    "ax.spines['right'].set_visible(False)\n",
    "ax.invert_yaxis()\n",
    "plt.savefig(\"user_trigrams.png\", format = 'png', bbox_inches='tight')"
   ]
  },
  {
   "cell_type": "markdown",
   "metadata": {},
   "source": [
    "If one where to simply look at the top words used by each group (bots vs. users), it would be easy to think that the content was exactly the same. However, by examining the collocations of trigrams and bigrams one can clearly see that the bot conversation has a much different tone towards Joe Biden that the real user conversation.\n",
    "\n",
    "Now I look at the divergence measures between bot and user word distributions."
   ]
  },
  {
   "cell_type": "code",
   "execution_count": 74,
   "metadata": {},
   "outputs": [],
   "source": [
    "#calculate the overlap in words and their porbabilities\n",
    "word_overlap = pd.merge(fake_wordCounts, user_wordCounts, on='words',how='inner')\n",
    "word_overlap['bot_probs'] = word_overlap['count_x'] / word_overlap['count_x'].sum()\n",
    "word_overlap['user_probs'] = word_overlap['count_y'] / word_overlap['count_y'].sum()"
   ]
  },
  {
   "cell_type": "code",
   "execution_count": 75,
   "metadata": {},
   "outputs": [],
   "source": [
    "#transfrm probabilities into array for efficiency\n",
    "bot_array = np.array(word_overlap['bot_probs'])\n",
    "user_array = np.array(word_overlap['user_probs'])"
   ]
  },
  {
   "cell_type": "code",
   "execution_count": 76,
   "metadata": {},
   "outputs": [],
   "source": [
    "#calculate the K-L divergence\n",
    "bot_KL = scipy.stats.entropy(bot_array, user_array)\n",
    "user_KL = scipy.stats.entropy(user_array, bot_array)"
   ]
  },
  {
   "cell_type": "code",
   "execution_count": 77,
   "metadata": {},
   "outputs": [],
   "source": [
    "#calculate the elemtwise KL divergence for bots\n",
    "word_overlap['bot_kl_divergence']= scipy.special.kl_div(bot_array, user_array)\n"
   ]
  },
  {
   "cell_type": "code",
   "execution_count": 78,
   "metadata": {},
   "outputs": [],
   "source": [
    "#sort values\n",
    "word_overlap = word_overlap.sort_values(by='bot_kl_divergence', ascending=False)"
   ]
  },
  {
   "cell_type": "code",
   "execution_count": 79,
   "metadata": {},
   "outputs": [
    {
     "data": {
      "text/plain": [
       "0.31722896878413814"
      ]
     },
     "execution_count": 79,
     "metadata": {},
     "output_type": "execute_result"
    }
   ],
   "source": [
    "#Calculate the Jensen-Shannon divergence\n",
    "bot_vs_userJS = scipy.spatial.distance.jensenshannon(bot_array, user_array)\n",
    "bot_vs_userJS"
   ]
  },
  {
   "cell_type": "code",
   "execution_count": 82,
   "metadata": {},
   "outputs": [
    {
     "data": {
      "image/png": "[encoded data removed]",
      "text/plain": [
       "<Figure size 432x432 with 1 Axes>"
      ]
     },
     "metadata": {
      "needs_background": "light"
     },
     "output_type": "display_data"
    }
   ],
   "source": [
    "#plot the words from bots with the highest divergence\n",
    "top10_divergence = word_overlap.iloc[:10,:]\n",
    "fig, ax = plt.subplots(figsize=(6,6))\n",
    "ax.barh(top10_divergence['words'],top10_divergence['bot_kl_divergence'],\n",
    "        facecolor='tab:cyan')\n",
    "ax.set_title('Figure 5: Words With Highest KL Divergence (Bots)', fontsize=18)\n",
    "ax.set_ylabel('Words',fontsize=16)\n",
    "ax.set_xlabel('KL Divergence',fontsize=16)\n",
    "ax.spines['top'].set_visible(False)\n",
    "ax.spines['right'].set_visible(False)\n",
    "ax.invert_yaxis()\n",
    "plt.savefig(\"bot_divergence.png\", format = 'png', bbox_inches='tight')"
   ]
  },
  {
   "cell_type": "code",
   "execution_count": 83,
   "metadata": {},
   "outputs": [
    {
     "data": {
      "image/png": "[encoded data removed]",
      "text/plain": [
       "<Figure size 432x432 with 1 Axes>"
      ]
     },
     "metadata": {
      "needs_background": "light"
     },
     "output_type": "display_data"
    }
   ],
   "source": [
    "#calculate the elemtwise KL divergence for users\n",
    "word_overlap['user_kl_divergence']= scipy.special.kl_div(user_array, bot_array)\n",
    "word_overlap = word_overlap.sort_values(by='user_kl_divergence', ascending=False)\n",
    "top10_divergence = word_overlap.iloc[:10,:]\n",
    "\n",
    "#plot the words from users with the highest divergence\n",
    "fig, ax = plt.subplots(figsize=(6,6))\n",
    "ax.barh(top10_divergence['words'],top10_divergence['user_kl_divergence'],\n",
    "        facecolor='tab:blue')\n",
    "ax.set_title('Figure 6: Words With Highest KL Divergence (Users)', fontsize=18)\n",
    "ax.set_ylabel('Words',fontsize=16)\n",
    "ax.set_xlabel('KL Divergence',fontsize=16)\n",
    "ax.spines['top'].set_visible(False)\n",
    "ax.spines['right'].set_visible(False)\n",
    "ax.invert_yaxis()\n",
    "plt.savefig(\"user_divergence.png\", format = 'png', bbox_inches='tight')"
   ]
  },
  {
   "cell_type": "markdown",
   "metadata": {},
   "source": [
    "Now I take a look at which topics bots are talking about the most. I trained several LDA models and found that the one with the highest coherence score was that which had 14 topics."
   ]
  },
  {
   "cell_type": "code",
   "execution_count": 310,
   "metadata": {
    "scrolled": true
   },
   "outputs": [
    {
     "data": {
      "text/html": [
       "<div>\n",
       "<style scoped>\n",
       "    .dataframe tbody tr th:only-of-type {\n",
       "        vertical-align: middle;\n",
       "    }\n",
       "\n",
       "    .dataframe tbody tr th {\n",
       "        vertical-align: top;\n",
       "    }\n",
       "\n",
       "    .dataframe thead th {\n",
       "        text-align: right;\n",
       "    }\n",
       "</style>\n",
       "<table border=\"1\" class=\"dataframe\">\n",
       "  <thead>\n",
       "    <tr style=\"text-align: right;\">\n",
       "      <th></th>\n",
       "      <th>Topic 0</th>\n",
       "      <th>Topic 1</th>\n",
       "      <th>Topic 2</th>\n",
       "      <th>Topic 3</th>\n",
       "      <th>Topic 4</th>\n",
       "      <th>Topic 5</th>\n",
       "      <th>Topic 6</th>\n",
       "      <th>Topic 7</th>\n",
       "      <th>Topic 8</th>\n",
       "      <th>Topic 9</th>\n",
       "      <th>Topic 10</th>\n",
       "      <th>Topic 11</th>\n",
       "      <th>Topic 12</th>\n",
       "      <th>Topic 13</th>\n",
       "    </tr>\n",
       "  </thead>\n",
       "  <tbody>\n",
       "    <tr>\n",
       "      <th>0</th>\n",
       "      <td>reade</td>\n",
       "      <td>flynn</td>\n",
       "      <td>poll</td>\n",
       "      <td>know</td>\n",
       "      <td>like</td>\n",
       "      <td>lie</td>\n",
       "      <td>china</td>\n",
       "      <td>win</td>\n",
       "      <td>joe</td>\n",
       "      <td>maga</td>\n",
       "      <td>woman</td>\n",
       "      <td>obama</td>\n",
       "      <td>president</td>\n",
       "      <td>vote</td>\n",
       "    </tr>\n",
       "    <tr>\n",
       "      <th>1</th>\n",
       "      <td>tara</td>\n",
       "      <td>campaign</td>\n",
       "      <td>lead</td>\n",
       "      <td>joe</td>\n",
       "      <td>supporter</td>\n",
       "      <td>oval</td>\n",
       "      <td>key</td>\n",
       "      <td>beat</td>\n",
       "      <td>old</td>\n",
       "      <td>trump2020</td>\n",
       "      <td>rape</td>\n",
       "      <td>anti</td>\n",
       "      <td>joe</td>\n",
       "      <td>party</td>\n",
       "    </tr>\n",
       "    <tr>\n",
       "      <th>2</th>\n",
       "      <td>sexual</td>\n",
       "      <td>lawyer</td>\n",
       "      <td>joe</td>\n",
       "      <td>president</td>\n",
       "      <td>look</td>\n",
       "      <td>news</td>\n",
       "      <td>pandemic</td>\n",
       "      <td>need</td>\n",
       "      <td>public</td>\n",
       "      <td>kag</td>\n",
       "      <td>accuse</td>\n",
       "      <td>entire</td>\n",
       "      <td>run</td>\n",
       "      <td>bernie</td>\n",
       "    </tr>\n",
       "    <tr>\n",
       "      <th>3</th>\n",
       "      <td>assault</td>\n",
       "      <td>russia</td>\n",
       "      <td>drop</td>\n",
       "      <td>obama</td>\n",
       "      <td>people</td>\n",
       "      <td>donor</td>\n",
       "      <td>coronavirus</td>\n",
       "      <td>want</td>\n",
       "      <td>fuck</td>\n",
       "      <td>president</td>\n",
       "      <td>believe</td>\n",
       "      <td>january</td>\n",
       "      <td>say</td>\n",
       "      <td>people</td>\n",
       "    </tr>\n",
       "    <tr>\n",
       "      <th>4</th>\n",
       "      <td>allegation</td>\n",
       "      <td>investigation</td>\n",
       "      <td>point</td>\n",
       "      <td>donald</td>\n",
       "      <td>rapist</td>\n",
       "      <td>like</td>\n",
       "      <td>death</td>\n",
       "      <td>lose</td>\n",
       "      <td>talk</td>\n",
       "      <td>qanon</td>\n",
       "      <td>accuser</td>\n",
       "      <td>white</td>\n",
       "      <td>vice</td>\n",
       "      <td>democrat</td>\n",
       "    </tr>\n",
       "    <tr>\n",
       "      <th>5</th>\n",
       "      <td>claim</td>\n",
       "      <td>justice</td>\n",
       "      <td>election</td>\n",
       "      <td>people</td>\n",
       "      <td>democrat</td>\n",
       "      <td>fake</td>\n",
       "      <td>country</td>\n",
       "      <td>think</td>\n",
       "      <td>say</td>\n",
       "      <td>wwg1wga</td>\n",
       "      <td>assault</td>\n",
       "      <td>office</td>\n",
       "      <td>obama</td>\n",
       "      <td>want</td>\n",
       "    </tr>\n",
       "    <tr>\n",
       "      <th>6</th>\n",
       "      <td>joe</td>\n",
       "      <td>hoax</td>\n",
       "      <td>test</td>\n",
       "      <td>american</td>\n",
       "      <td>thing</td>\n",
       "      <td>barr</td>\n",
       "      <td>america</td>\n",
       "      <td>debate</td>\n",
       "      <td>force</td>\n",
       "      <td>god</td>\n",
       "      <td>ad</td>\n",
       "      <td>house</td>\n",
       "      <td>endorse</td>\n",
       "      <td>win</td>\n",
       "    </tr>\n",
       "    <tr>\n",
       "      <th>7</th>\n",
       "      <td>story</td>\n",
       "      <td>record</td>\n",
       "      <td>new</td>\n",
       "      <td>care</td>\n",
       "      <td>hold</td>\n",
       "      <td>bad</td>\n",
       "      <td>response</td>\n",
       "      <td>pick</td>\n",
       "      <td>let</td>\n",
       "      <td>america</td>\n",
       "      <td>question</td>\n",
       "      <td>presidency</td>\n",
       "      <td>office</td>\n",
       "      <td>november</td>\n",
       "    </tr>\n",
       "    <tr>\n",
       "      <th>8</th>\n",
       "      <td>accusation</td>\n",
       "      <td>attack</td>\n",
       "      <td>race</td>\n",
       "      <td>corrupt</td>\n",
       "      <td>support</td>\n",
       "      <td>know</td>\n",
       "      <td>americans</td>\n",
       "      <td>amash</td>\n",
       "      <td>year</td>\n",
       "      <td>obama</td>\n",
       "      <td>allegation</td>\n",
       "      <td>administration</td>\n",
       "      <td>step</td>\n",
       "      <td>think</td>\n",
       "    </tr>\n",
       "    <tr>\n",
       "      <th>9</th>\n",
       "      <td>false</td>\n",
       "      <td>pay</td>\n",
       "      <td>state</td>\n",
       "      <td>america</td>\n",
       "      <td>try</td>\n",
       "      <td>want</td>\n",
       "      <td>campaign</td>\n",
       "      <td>vp</td>\n",
       "      <td>video</td>\n",
       "      <td>economy</td>\n",
       "      <td>metoo</td>\n",
       "      <td>die</td>\n",
       "      <td>year</td>\n",
       "      <td>voter</td>\n",
       "    </tr>\n",
       "  </tbody>\n",
       "</table>\n",
       "</div>"
      ],
      "text/plain": [
       "      Topic 0        Topic 1   Topic 2    Topic 3    Topic 4 Topic 5  \\\n",
       "0       reade          flynn      poll       know       like     lie   \n",
       "1        tara       campaign      lead        joe  supporter    oval   \n",
       "2      sexual         lawyer       joe  president       look    news   \n",
       "3     assault         russia      drop      obama     people   donor   \n",
       "4  allegation  investigation     point     donald     rapist    like   \n",
       "5       claim        justice  election     people   democrat    fake   \n",
       "6         joe           hoax      test   american      thing    barr   \n",
       "7       story         record       new       care       hold     bad   \n",
       "8  accusation         attack      race    corrupt    support    know   \n",
       "9       false            pay     state    america        try    want   \n",
       "\n",
       "       Topic 6 Topic 7 Topic 8    Topic 9    Topic 10        Topic 11  \\\n",
       "0        china     win     joe       maga       woman           obama   \n",
       "1          key    beat     old  trump2020        rape            anti   \n",
       "2     pandemic    need  public        kag      accuse          entire   \n",
       "3  coronavirus    want    fuck  president     believe         january   \n",
       "4        death    lose    talk      qanon     accuser           white   \n",
       "5      country   think     say    wwg1wga     assault          office   \n",
       "6      america  debate   force        god          ad           house   \n",
       "7     response    pick     let    america    question      presidency   \n",
       "8    americans   amash    year      obama  allegation  administration   \n",
       "9     campaign      vp   video    economy       metoo             die   \n",
       "\n",
       "    Topic 12  Topic 13  \n",
       "0  president      vote  \n",
       "1        joe     party  \n",
       "2        run    bernie  \n",
       "3        say    people  \n",
       "4       vice  democrat  \n",
       "5      obama      want  \n",
       "6    endorse       win  \n",
       "7     office  november  \n",
       "8       step     think  \n",
       "9       year     voter  "
      ]
     },
     "execution_count": 310,
     "metadata": {},
     "output_type": "execute_result"
    }
   ],
   "source": [
    "#load the 14 topic lda model\n",
    "from sklearn.externals import joblib \n",
    "lda_14 = joblib.load(r'.\\LDA\\lda_14.pkl') \n",
    "\n",
    "#create a dataframe with the words that best identify each topic\n",
    "topicsDict = {}\n",
    "for topicNum in range(lda_14.num_topics):\n",
    "    topicWords = [w for w, p in lda_14.show_topic(topicNum)]\n",
    "    topicsDict['Topic {}'.format(topicNum)] = topicWords\n",
    "wordRanks_14 = pd.DataFrame(topicsDict)\n",
    "wordRanks_14"
   ]
  },
  {
   "cell_type": "code",
   "execution_count": 24,
   "metadata": {},
   "outputs": [
    {
     "data": {
      "text/html": [
       "<div>\n",
       "<style scoped>\n",
       "    .dataframe tbody tr th:only-of-type {\n",
       "        vertical-align: middle;\n",
       "    }\n",
       "\n",
       "    .dataframe tbody tr th {\n",
       "        vertical-align: top;\n",
       "    }\n",
       "\n",
       "    .dataframe thead th {\n",
       "        text-align: right;\n",
       "    }\n",
       "</style>\n",
       "<table border=\"1\" class=\"dataframe\">\n",
       "  <thead>\n",
       "    <tr style=\"text-align: right;\">\n",
       "      <th></th>\n",
       "      <th>text</th>\n",
       "      <th>max_topic</th>\n",
       "    </tr>\n",
       "  </thead>\n",
       "  <tbody>\n",
       "    <tr>\n",
       "      <th>0</th>\n",
       "      <td>The Lincoln Movement is a fundraising arm of t...</td>\n",
       "      <td>10</td>\n",
       "    </tr>\n",
       "    <tr>\n",
       "      <th>1</th>\n",
       "      <td>Biden is Kristol's pro-war candidate of choice...</td>\n",
       "      <td>12</td>\n",
       "    </tr>\n",
       "    <tr>\n",
       "      <th>2</th>\n",
       "      <td>The @TheLincolnPAC is a front group for the Jo...</td>\n",
       "      <td>6</td>\n",
       "    </tr>\n",
       "    <tr>\n",
       "      <th>3</th>\n",
       "      <td>The Lincoln Movement is a front for Biden-back...</td>\n",
       "      <td>10</td>\n",
       "    </tr>\n",
       "    <tr>\n",
       "      <th>4</th>\n",
       "      <td>@TheLincolnPAC The Lincoln Movement is a front...</td>\n",
       "      <td>10</td>\n",
       "    </tr>\n",
       "    <tr>\n",
       "      <th>...</th>\n",
       "      <td>...</td>\n",
       "      <td>...</td>\n",
       "    </tr>\n",
       "    <tr>\n",
       "      <th>59238</th>\n",
       "      <td>Top story: Prominent lawyer, Trump donor repre...</td>\n",
       "      <td>5</td>\n",
       "    </tr>\n",
       "    <tr>\n",
       "      <th>59239</th>\n",
       "      <td>Biden's edge evaporates as Trump seen as bette...</td>\n",
       "      <td>13</td>\n",
       "    </tr>\n",
       "    <tr>\n",
       "      <th>59240</th>\n",
       "      <td>Prominent lawyer, Trump donor representing Bid...</td>\n",
       "      <td>5</td>\n",
       "    </tr>\n",
       "    <tr>\n",
       "      <th>59241</th>\n",
       "      <td>@marxist_morgan people have their blinders on ...</td>\n",
       "      <td>10</td>\n",
       "    </tr>\n",
       "    <tr>\n",
       "      <th>59242</th>\n",
       "      <td>@PatTheBerner @BernForBernie20 Such a funny th...</td>\n",
       "      <td>11</td>\n",
       "    </tr>\n",
       "  </tbody>\n",
       "</table>\n",
       "<p>59243 rows × 2 columns</p>\n",
       "</div>"
      ],
      "text/plain": [
       "                                                    text  max_topic\n",
       "0      The Lincoln Movement is a fundraising arm of t...         10\n",
       "1      Biden is Kristol's pro-war candidate of choice...         12\n",
       "2      The @TheLincolnPAC is a front group for the Jo...          6\n",
       "3      The Lincoln Movement is a front for Biden-back...         10\n",
       "4      @TheLincolnPAC The Lincoln Movement is a front...         10\n",
       "...                                                  ...        ...\n",
       "59238  Top story: Prominent lawyer, Trump donor repre...          5\n",
       "59239  Biden's edge evaporates as Trump seen as bette...         13\n",
       "59240  Prominent lawyer, Trump donor representing Bid...          5\n",
       "59241  @marxist_morgan people have their blinders on ...         10\n",
       "59242  @PatTheBerner @BernForBernie20 Such a funny th...         11\n",
       "\n",
       "[59243 rows x 2 columns]"
      ]
     },
     "execution_count": 24,
     "metadata": {},
     "output_type": "execute_result"
    }
   ],
   "source": [
    "topics_df = pd.read_csv(r'.\\LDA\\topic_labels.csv')\n",
    "topics_df.drop('Unnamed: 0', axis=1)"
   ]
  },
  {
   "cell_type": "code",
   "execution_count": 22,
   "metadata": {},
   "outputs": [],
   "source": [
    "# load data\n",
    "days = pd.read_csv(r'.\\Classified\\all.csv')\n",
    "days = days.reset_index().drop(['index','Unnamed: 0'], axis=1)\n",
    "\n",
    "#create labels for bot accounts above the a 0.43 CAP score\n",
    "days['type'] = ['bot' if x > .43 else \"user\" for x in days['cap']]\n",
    "days['type_n'] = [1 if x > .43 else 0 for x in days['cap']]\n"
   ]
  },
  {
   "cell_type": "code",
   "execution_count": 25,
   "metadata": {},
   "outputs": [],
   "source": [
    "#add topics to the dataframe\n",
    "days = pd.merge(days, topics_df, on='text', how='outer').drop('Unnamed: 0', axis=1)"
   ]
  },
  {
   "cell_type": "code",
   "execution_count": 26,
   "metadata": {},
   "outputs": [
    {
     "data": {
      "text/html": [
       "<div>\n",
       "<style scoped>\n",
       "    .dataframe tbody tr th:only-of-type {\n",
       "        vertical-align: middle;\n",
       "    }\n",
       "\n",
       "    .dataframe tbody tr th {\n",
       "        vertical-align: top;\n",
       "    }\n",
       "\n",
       "    .dataframe thead th {\n",
       "        text-align: right;\n",
       "    }\n",
       "</style>\n",
       "<table border=\"1\" class=\"dataframe\">\n",
       "  <thead>\n",
       "    <tr style=\"text-align: right;\">\n",
       "      <th></th>\n",
       "      <th>user_id</th>\n",
       "      <th>status_id</th>\n",
       "      <th>created_at</th>\n",
       "      <th>screen_name</th>\n",
       "      <th>text</th>\n",
       "      <th>is_retweet</th>\n",
       "      <th>favorite_count</th>\n",
       "      <th>retweet_count</th>\n",
       "      <th>hashtags</th>\n",
       "      <th>mentions_screen_name</th>\n",
       "      <th>...</th>\n",
       "      <th>followers_count</th>\n",
       "      <th>friends_count</th>\n",
       "      <th>statuses_count</th>\n",
       "      <th>account_created_at</th>\n",
       "      <th>verified</th>\n",
       "      <th>location</th>\n",
       "      <th>cap</th>\n",
       "      <th>type</th>\n",
       "      <th>type_n</th>\n",
       "      <th>max_topic</th>\n",
       "    </tr>\n",
       "  </thead>\n",
       "  <tbody>\n",
       "    <tr>\n",
       "      <th>0</th>\n",
       "      <td>1.256388e+18</td>\n",
       "      <td>1.256775e+18</td>\n",
       "      <td>2020-05-02 22:38:31</td>\n",
       "      <td>AmashCalifornia</td>\n",
       "      <td>The Lincoln Movement is a fundraising arm of t...</td>\n",
       "      <td>False</td>\n",
       "      <td>4</td>\n",
       "      <td>0</td>\n",
       "      <td>NaN</td>\n",
       "      <td>NaN</td>\n",
       "      <td>...</td>\n",
       "      <td>109</td>\n",
       "      <td>295</td>\n",
       "      <td>410</td>\n",
       "      <td>2020-05-02T00:59:16Z</td>\n",
       "      <td>False</td>\n",
       "      <td>Southern California</td>\n",
       "      <td>0.028226</td>\n",
       "      <td>user</td>\n",
       "      <td>0</td>\n",
       "      <td>10</td>\n",
       "    </tr>\n",
       "    <tr>\n",
       "      <th>1</th>\n",
       "      <td>1.256388e+18</td>\n",
       "      <td>1.256775e+18</td>\n",
       "      <td>2020-05-02 22:38:31</td>\n",
       "      <td>AmashCalifornia</td>\n",
       "      <td>The Lincoln Movement is a fundraising arm of t...</td>\n",
       "      <td>False</td>\n",
       "      <td>4</td>\n",
       "      <td>0</td>\n",
       "      <td>NaN</td>\n",
       "      <td>NaN</td>\n",
       "      <td>...</td>\n",
       "      <td>109</td>\n",
       "      <td>295</td>\n",
       "      <td>410</td>\n",
       "      <td>2020-05-02T00:59:16Z</td>\n",
       "      <td>False</td>\n",
       "      <td>Southern California</td>\n",
       "      <td>0.018904</td>\n",
       "      <td>user</td>\n",
       "      <td>0</td>\n",
       "      <td>10</td>\n",
       "    </tr>\n",
       "    <tr>\n",
       "      <th>2</th>\n",
       "      <td>1.256388e+18</td>\n",
       "      <td>1.256775e+18</td>\n",
       "      <td>2020-05-02 22:38:31</td>\n",
       "      <td>AmashCalifornia</td>\n",
       "      <td>The Lincoln Movement is a fundraising arm of t...</td>\n",
       "      <td>False</td>\n",
       "      <td>4</td>\n",
       "      <td>0</td>\n",
       "      <td>NaN</td>\n",
       "      <td>NaN</td>\n",
       "      <td>...</td>\n",
       "      <td>109</td>\n",
       "      <td>295</td>\n",
       "      <td>410</td>\n",
       "      <td>2020-05-02T00:59:16Z</td>\n",
       "      <td>False</td>\n",
       "      <td>Southern California</td>\n",
       "      <td>0.028226</td>\n",
       "      <td>user</td>\n",
       "      <td>0</td>\n",
       "      <td>10</td>\n",
       "    </tr>\n",
       "  </tbody>\n",
       "</table>\n",
       "<p>3 rows × 25 columns</p>\n",
       "</div>"
      ],
      "text/plain": [
       "        user_id     status_id           created_at      screen_name  \\\n",
       "0  1.256388e+18  1.256775e+18  2020-05-02 22:38:31  AmashCalifornia   \n",
       "1  1.256388e+18  1.256775e+18  2020-05-02 22:38:31  AmashCalifornia   \n",
       "2  1.256388e+18  1.256775e+18  2020-05-02 22:38:31  AmashCalifornia   \n",
       "\n",
       "                                                text  is_retweet  \\\n",
       "0  The Lincoln Movement is a fundraising arm of t...       False   \n",
       "1  The Lincoln Movement is a fundraising arm of t...       False   \n",
       "2  The Lincoln Movement is a fundraising arm of t...       False   \n",
       "\n",
       "   favorite_count  retweet_count hashtags mentions_screen_name  ...  \\\n",
       "0               4              0      NaN                  NaN  ...   \n",
       "1               4              0      NaN                  NaN  ...   \n",
       "2               4              0      NaN                  NaN  ...   \n",
       "\n",
       "   followers_count  friends_count  statuses_count    account_created_at  \\\n",
       "0              109            295             410  2020-05-02T00:59:16Z   \n",
       "1              109            295             410  2020-05-02T00:59:16Z   \n",
       "2              109            295             410  2020-05-02T00:59:16Z   \n",
       "\n",
       "  verified             location       cap  type type_n  max_topic  \n",
       "0    False  Southern California  0.028226  user      0         10  \n",
       "1    False  Southern California  0.018904  user      0         10  \n",
       "2    False  Southern California  0.028226  user      0         10  \n",
       "\n",
       "[3 rows x 25 columns]"
      ]
     },
     "execution_count": 26,
     "metadata": {},
     "output_type": "execute_result"
    }
   ],
   "source": [
    "days.head(3)"
   ]
  },
  {
   "cell_type": "code",
   "execution_count": 27,
   "metadata": {},
   "outputs": [],
   "source": [
    "#turn 'topics' column into string\n",
    "days['max_topic'] = days['max_topic'].apply(str)"
   ]
  },
  {
   "cell_type": "code",
   "execution_count": 90,
   "metadata": {},
   "outputs": [],
   "source": [
    "#calculate number of posts belonging to each topic for the whole set\n",
    "topic_counts = days.groupby(['max_topic', 'type'])['max_topic'].count()\n",
    "topic_counts = pd.DataFrame(topic_counts)\n",
    "topic_counts = topic_counts.rename(columns={'max_topic':'Count'}).reset_index()\n",
    "\n",
    "#get the proportion of tweets that belong to each topic from each type of account\n",
    "topic_counts['proportion'] = [topic_counts.iloc[i,2] / bot_post_user.iloc[1,1] \n",
    "                              if topic_counts.iloc[i,1] == 'bot' else\n",
    "                              topic_counts.iloc[i,2] / bot_post_user.iloc[0,1] \n",
    "                              for i in range(0,len(topic_counts))]\n"
   ]
  },
  {
   "cell_type": "code",
   "execution_count": 91,
   "metadata": {},
   "outputs": [
    {
     "data": {
      "text/html": [
       "<div>\n",
       "<style scoped>\n",
       "    .dataframe tbody tr th:only-of-type {\n",
       "        vertical-align: middle;\n",
       "    }\n",
       "\n",
       "    .dataframe tbody tr th {\n",
       "        vertical-align: top;\n",
       "    }\n",
       "\n",
       "    .dataframe thead th {\n",
       "        text-align: right;\n",
       "    }\n",
       "</style>\n",
       "<table border=\"1\" class=\"dataframe\">\n",
       "  <thead>\n",
       "    <tr style=\"text-align: right;\">\n",
       "      <th></th>\n",
       "      <th>max_topic</th>\n",
       "      <th>type</th>\n",
       "      <th>Count</th>\n",
       "      <th>proportion</th>\n",
       "      <th>percent</th>\n",
       "    </tr>\n",
       "  </thead>\n",
       "  <tbody>\n",
       "    <tr>\n",
       "      <th>0</th>\n",
       "      <td>0</td>\n",
       "      <td>bot</td>\n",
       "      <td>802</td>\n",
       "      <td>0.057163</td>\n",
       "      <td>5.72</td>\n",
       "    </tr>\n",
       "    <tr>\n",
       "      <th>1</th>\n",
       "      <td>0</td>\n",
       "      <td>user</td>\n",
       "      <td>26217</td>\n",
       "      <td>0.081605</td>\n",
       "      <td>8.16</td>\n",
       "    </tr>\n",
       "    <tr>\n",
       "      <th>2</th>\n",
       "      <td>1</td>\n",
       "      <td>bot</td>\n",
       "      <td>833</td>\n",
       "      <td>0.059373</td>\n",
       "      <td>5.94</td>\n",
       "    </tr>\n",
       "    <tr>\n",
       "      <th>3</th>\n",
       "      <td>1</td>\n",
       "      <td>user</td>\n",
       "      <td>17012</td>\n",
       "      <td>0.052953</td>\n",
       "      <td>5.30</td>\n",
       "    </tr>\n",
       "    <tr>\n",
       "      <th>12</th>\n",
       "      <td>2</td>\n",
       "      <td>bot</td>\n",
       "      <td>720</td>\n",
       "      <td>0.051319</td>\n",
       "      <td>5.13</td>\n",
       "    </tr>\n",
       "    <tr>\n",
       "      <th>13</th>\n",
       "      <td>2</td>\n",
       "      <td>user</td>\n",
       "      <td>26168</td>\n",
       "      <td>0.081452</td>\n",
       "      <td>8.15</td>\n",
       "    </tr>\n",
       "    <tr>\n",
       "      <th>14</th>\n",
       "      <td>3</td>\n",
       "      <td>bot</td>\n",
       "      <td>1271</td>\n",
       "      <td>0.090592</td>\n",
       "      <td>9.06</td>\n",
       "    </tr>\n",
       "    <tr>\n",
       "      <th>15</th>\n",
       "      <td>3</td>\n",
       "      <td>user</td>\n",
       "      <td>32712</td>\n",
       "      <td>0.101821</td>\n",
       "      <td>10.18</td>\n",
       "    </tr>\n",
       "    <tr>\n",
       "      <th>16</th>\n",
       "      <td>4</td>\n",
       "      <td>bot</td>\n",
       "      <td>409</td>\n",
       "      <td>0.029152</td>\n",
       "      <td>2.92</td>\n",
       "    </tr>\n",
       "    <tr>\n",
       "      <th>17</th>\n",
       "      <td>4</td>\n",
       "      <td>user</td>\n",
       "      <td>19242</td>\n",
       "      <td>0.059894</td>\n",
       "      <td>5.99</td>\n",
       "    </tr>\n",
       "    <tr>\n",
       "      <th>19</th>\n",
       "      <td>5</td>\n",
       "      <td>user</td>\n",
       "      <td>19829</td>\n",
       "      <td>0.061721</td>\n",
       "      <td>6.17</td>\n",
       "    </tr>\n",
       "    <tr>\n",
       "      <th>18</th>\n",
       "      <td>5</td>\n",
       "      <td>bot</td>\n",
       "      <td>854</td>\n",
       "      <td>0.060870</td>\n",
       "      <td>6.09</td>\n",
       "    </tr>\n",
       "    <tr>\n",
       "      <th>21</th>\n",
       "      <td>6</td>\n",
       "      <td>user</td>\n",
       "      <td>30018</td>\n",
       "      <td>0.093436</td>\n",
       "      <td>9.34</td>\n",
       "    </tr>\n",
       "    <tr>\n",
       "      <th>20</th>\n",
       "      <td>6</td>\n",
       "      <td>bot</td>\n",
       "      <td>1066</td>\n",
       "      <td>0.075980</td>\n",
       "      <td>7.60</td>\n",
       "    </tr>\n",
       "    <tr>\n",
       "      <th>23</th>\n",
       "      <td>7</td>\n",
       "      <td>user</td>\n",
       "      <td>19968</td>\n",
       "      <td>0.062154</td>\n",
       "      <td>6.22</td>\n",
       "    </tr>\n",
       "    <tr>\n",
       "      <th>22</th>\n",
       "      <td>7</td>\n",
       "      <td>bot</td>\n",
       "      <td>593</td>\n",
       "      <td>0.042267</td>\n",
       "      <td>4.23</td>\n",
       "    </tr>\n",
       "    <tr>\n",
       "      <th>25</th>\n",
       "      <td>8</td>\n",
       "      <td>user</td>\n",
       "      <td>18941</td>\n",
       "      <td>0.058957</td>\n",
       "      <td>5.90</td>\n",
       "    </tr>\n",
       "    <tr>\n",
       "      <th>24</th>\n",
       "      <td>8</td>\n",
       "      <td>bot</td>\n",
       "      <td>678</td>\n",
       "      <td>0.048325</td>\n",
       "      <td>4.83</td>\n",
       "    </tr>\n",
       "    <tr>\n",
       "      <th>27</th>\n",
       "      <td>9</td>\n",
       "      <td>user</td>\n",
       "      <td>24866</td>\n",
       "      <td>0.077399</td>\n",
       "      <td>7.74</td>\n",
       "    </tr>\n",
       "    <tr>\n",
       "      <th>26</th>\n",
       "      <td>9</td>\n",
       "      <td>bot</td>\n",
       "      <td>3532</td>\n",
       "      <td>0.251746</td>\n",
       "      <td>25.17</td>\n",
       "    </tr>\n",
       "    <tr>\n",
       "      <th>4</th>\n",
       "      <td>10</td>\n",
       "      <td>bot</td>\n",
       "      <td>538</td>\n",
       "      <td>0.038346</td>\n",
       "      <td>3.83</td>\n",
       "    </tr>\n",
       "    <tr>\n",
       "      <th>5</th>\n",
       "      <td>10</td>\n",
       "      <td>user</td>\n",
       "      <td>14656</td>\n",
       "      <td>0.045619</td>\n",
       "      <td>4.56</td>\n",
       "    </tr>\n",
       "    <tr>\n",
       "      <th>7</th>\n",
       "      <td>11</td>\n",
       "      <td>user</td>\n",
       "      <td>18126</td>\n",
       "      <td>0.056420</td>\n",
       "      <td>5.64</td>\n",
       "    </tr>\n",
       "    <tr>\n",
       "      <th>6</th>\n",
       "      <td>11</td>\n",
       "      <td>bot</td>\n",
       "      <td>811</td>\n",
       "      <td>0.057805</td>\n",
       "      <td>5.78</td>\n",
       "    </tr>\n",
       "    <tr>\n",
       "      <th>9</th>\n",
       "      <td>12</td>\n",
       "      <td>user</td>\n",
       "      <td>31531</td>\n",
       "      <td>0.098145</td>\n",
       "      <td>9.81</td>\n",
       "    </tr>\n",
       "    <tr>\n",
       "      <th>8</th>\n",
       "      <td>12</td>\n",
       "      <td>bot</td>\n",
       "      <td>1365</td>\n",
       "      <td>0.097292</td>\n",
       "      <td>9.73</td>\n",
       "    </tr>\n",
       "    <tr>\n",
       "      <th>11</th>\n",
       "      <td>13</td>\n",
       "      <td>user</td>\n",
       "      <td>21983</td>\n",
       "      <td>0.068426</td>\n",
       "      <td>6.84</td>\n",
       "    </tr>\n",
       "    <tr>\n",
       "      <th>10</th>\n",
       "      <td>13</td>\n",
       "      <td>bot</td>\n",
       "      <td>558</td>\n",
       "      <td>0.039772</td>\n",
       "      <td>3.98</td>\n",
       "    </tr>\n",
       "  </tbody>\n",
       "</table>\n",
       "</div>"
      ],
      "text/plain": [
       "    max_topic  type  Count  proportion  percent\n",
       "0           0   bot    802    0.057163     5.72\n",
       "1           0  user  26217    0.081605     8.16\n",
       "2           1   bot    833    0.059373     5.94\n",
       "3           1  user  17012    0.052953     5.30\n",
       "12          2   bot    720    0.051319     5.13\n",
       "13          2  user  26168    0.081452     8.15\n",
       "14          3   bot   1271    0.090592     9.06\n",
       "15          3  user  32712    0.101821    10.18\n",
       "16          4   bot    409    0.029152     2.92\n",
       "17          4  user  19242    0.059894     5.99\n",
       "19          5  user  19829    0.061721     6.17\n",
       "18          5   bot    854    0.060870     6.09\n",
       "21          6  user  30018    0.093436     9.34\n",
       "20          6   bot   1066    0.075980     7.60\n",
       "23          7  user  19968    0.062154     6.22\n",
       "22          7   bot    593    0.042267     4.23\n",
       "25          8  user  18941    0.058957     5.90\n",
       "24          8   bot    678    0.048325     4.83\n",
       "27          9  user  24866    0.077399     7.74\n",
       "26          9   bot   3532    0.251746    25.17\n",
       "4          10   bot    538    0.038346     3.83\n",
       "5          10  user  14656    0.045619     4.56\n",
       "7          11  user  18126    0.056420     5.64\n",
       "6          11   bot    811    0.057805     5.78\n",
       "9          12  user  31531    0.098145     9.81\n",
       "8          12   bot   1365    0.097292     9.73\n",
       "11         13  user  21983    0.068426     6.84\n",
       "10         13   bot    558    0.039772     3.98"
      ]
     },
     "execution_count": 91,
     "metadata": {},
     "output_type": "execute_result"
    }
   ],
   "source": [
    "#turn the proportion into a percent\n",
    "topic_counts['percent'] = topic_counts.proportion.mul(100).round(2)\n",
    "topic_counts['max_topic'] = topic_counts['max_topic'].apply(int)\n",
    "topic_counts.sort_values('max_topic', ascending=True, inplace=True)\n",
    "topic_counts"
   ]
  },
  {
   "cell_type": "code",
   "execution_count": 93,
   "metadata": {},
   "outputs": [
    {
     "data": {
      "image/png": "[encoded data removed]",
      "text/plain": [
       "<Figure size 720x576 with 1 Axes>"
      ]
     },
     "metadata": {
      "needs_background": "light"
     },
     "output_type": "display_data"
    }
   ],
   "source": [
    "#create a barplot with the percent for each topic\n",
    "# set width of bar\n",
    "barWidth = 0.25\n",
    " \n",
    "# set heights of bar\n",
    "bot = topic_counts[topic_counts['type']=='bot']['percent']\n",
    "user = topic_counts[topic_counts['type']=='user']['percent']\n",
    "topics = topic_counts.drop_duplicates(['max_topic'])['max_topic']\n",
    "\n",
    "# Set position of bar on X axis\n",
    "r1 = np.arange(len(bot))\n",
    "r2 = [x + barWidth for x in r1]\n",
    "\n",
    "#create the figure\n",
    "fig, ax = plt.subplots(figsize=(10,8))\n",
    " \n",
    "# Make the plot\n",
    "ax.bar(r1, bot, color='tab:cyan', width=barWidth, edgecolor='white', label='Bot', alpha=0.8)\n",
    "ax.bar(r2, user, color='tab:blue', width=barWidth, edgecolor='white', label='User', alpha=0.8)\n",
    "\n",
    "# Add xticks on the middle of the group bars\n",
    "plt.xlabel('Topics', fontweight='bold', fontsize=16)\n",
    "plt.ylabel('Percent of posts', fontsize=16)\n",
    "plt.title('Figure 11: Proportion of Posts By Topic', fontsize=18)\n",
    "plt.xticks([r + barWidth for r in range(len(bot))], topics)\n",
    "plt.yticks(np.arange(0,30))\n",
    "ax.spines['top'].set_visible(False)\n",
    "ax.spines['right'].set_visible(False)\n",
    " \n",
    "# Create legend & Show graphic\n",
    "plt.legend(loc='upper left', fontsize=16)\n",
    "plt.savefig(\"percent_topics.png\", format = 'png', bbox_inches='tight')\n"
   ]
  },
  {
   "cell_type": "code",
   "execution_count": 61,
   "metadata": {},
   "outputs": [],
   "source": [
    "#load influence data\n",
    "three_hour = pd.read_csv(r'.\\Scores\\three_hour.csv').drop(['Unnamed: 0'], axis=1)\n",
    "twenty_minute = pd.read_csv(r'.\\Scores\\five_min.csv').drop(['Unnamed: 0'], axis=1)\n"
   ]
  },
  {
   "cell_type": "code",
   "execution_count": 62,
   "metadata": {},
   "outputs": [],
   "source": [
    "three_hour = three_hour[['status_id', 'novelty','transience','resonance']]\n",
    "three_hour = three_hour.rename(columns={'novelty':'nov_3hour', 'transience':'trans_3hour','resonance':'res_3hour'})\n",
    "twenty_minute = twenty_minute[['status_id', 'novelty','transience','resonance']]\n",
    "twenty_minute = twenty_minute.rename(columns={'novelty':'nov_20min', 'transience':'trans_20min','resonance':'res_20min'})\n",
    "\n",
    "scores = pd.merge(three_hour,twenty_minute,on=\"status_id\",how='outer')"
   ]
  },
  {
   "cell_type": "code",
   "execution_count": 65,
   "metadata": {},
   "outputs": [
    {
     "data": {
      "text/plain": [
       "(884, 31)"
      ]
     },
     "execution_count": 65,
     "metadata": {},
     "output_type": "execute_result"
    }
   ],
   "source": [
    "#filter bot content for those with high CAP\n",
    "fake_users = days[days['cap'] > .75]\n",
    "fake_users = pd.merge(fake_users,scores,on=\"status_id\",how='left')\n",
    "fake_users.shape\n"
   ]
  },
  {
   "cell_type": "code",
   "execution_count": 129,
   "metadata": {},
   "outputs": [
    {
     "data": {
      "image/png": "[encoded data removed]",
      "text/plain": [
       "<Figure size 576x432 with 1 Axes>"
      ]
     },
     "metadata": {
      "needs_background": "light"
     },
     "output_type": "display_data"
    }
   ],
   "source": [
    "# plot histogram of resonance measures for bots\n",
    "num_bins = 30\n",
    "mu = fake_users['res_3hour'].mean()\n",
    "median = fake_users['res_3hour'].median()\n",
    "fig, ax = plt.subplots(figsize=(8,6))\n",
    "n, bins, patches = plt.hist(fake_users['res_3hour'], \n",
    "                            num_bins, \n",
    "                            weights=np.ones(len(fake_users['res_3hour'])) / len(fake_users['res_3hour']), \n",
    "                            facecolor='tab:cyan', \n",
    "                            alpha=.8,\n",
    "                            edgecolor='grey',\n",
    "                            linewidth=2)\n",
    "plt.axvline(mu,ymin=0,ymax=1,linestyle='dashed', c='black',\n",
    "            linewidth=2, label='mean')\n",
    "plt.axvline(median,ymin=0,ymax=1,linestyle='dashed', c='grey',\n",
    "            linewidth=2, label='median')\n",
    "plt.xlabel('Resonance',\n",
    "          fontsize=16)\n",
    "plt.ylabel('Probability Density',\n",
    "          fontsize=16)\n",
    "plt.title('Figure 12: Histogram of Resonance for Bot Content\\n $Mean=-0.03$',\n",
    "         fontsize=18)\n",
    "ax.spines['top'].set_visible(False)\n",
    "ax.spines['right'].set_visible(False)\n",
    "plt.subplots_adjust(left=0.15)\n",
    "plt.legend(loc='best', fontsize=16)\n",
    "plt.savefig('hist_bot_resonance.png', format = 'png', bbox_inches='tight')"
   ]
  },
  {
   "cell_type": "code",
   "execution_count": 128,
   "metadata": {},
   "outputs": [
    {
     "data": {
      "image/png": "[encoded data removed]",
      "text/plain": [
       "<Figure size 576x432 with 1 Axes>"
      ]
     },
     "metadata": {
      "needs_background": "light"
     },
     "output_type": "display_data"
    }
   ],
   "source": [
    "# plot histogram of resonance measures for users\n",
    "num_bins = 30\n",
    "mu = low_cap['res_3hour'].mean()\n",
    "median = low_cap['res_3hour'].median()\n",
    "fig, ax = plt.subplots(figsize=(8,6))\n",
    "n, bins, patches = plt.hist(low_cap['res_3hour'], \n",
    "                            num_bins, \n",
    "                            density=True, \n",
    "                            facecolor='tab:blue',\n",
    "                            edgecolor='grey',\n",
    "                            alpha=.8,\n",
    "                            linewidth=2)\n",
    "plt.axvline(mu,ymin=0,ymax=1,linestyle='dashed', c='black',\n",
    "            linewidth=2, label='mean')\n",
    "plt.axvline(median,ymin=0,ymax=1,linestyle='dashed', c='grey',\n",
    "            linewidth=2, label='median')\n",
    "plt.xlabel('Resonance',\n",
    "          fontsize=16)\n",
    "plt.ylabel('Probability Density',\n",
    "          fontsize=16)\n",
    "plt.title('Figure 13: Histogram of Resonance for User Content\\n $Mean=0.88$',\n",
    "         fontsize=18)\n",
    "ax.spines['top'].set_visible(False)\n",
    "ax.spines['right'].set_visible(False)\n",
    "plt.subplots_adjust(left=0.15)\n",
    "plt.legend(loc='best', fontsize=16)\n",
    "plt.savefig('hist_user_resonance.png', format = 'png', bbox_inches='tight')"
   ]
  },
  {
   "cell_type": "code",
   "execution_count": 112,
   "metadata": {},
   "outputs": [
    {
     "data": {
      "text/plain": [
       "0.08815000728509105"
      ]
     },
     "execution_count": 112,
     "metadata": {},
     "output_type": "execute_result"
    }
   ],
   "source": [
    "mu"
   ]
  },
  {
   "cell_type": "code",
   "execution_count": 66,
   "metadata": {},
   "outputs": [
    {
     "data": {
      "text/plain": [
       "(935, 31)"
      ]
     },
     "execution_count": 66,
     "metadata": {},
     "output_type": "execute_result"
    }
   ],
   "source": [
    "#filter user content for those with low CAP\n",
    "low_cap = days[days['cap'] < quant_1]\n",
    "low_cap = pd.merge(low_cap,scores,on=\"status_id\",how='left')\n",
    "low_cap.shape"
   ]
  },
  {
   "cell_type": "code",
   "execution_count": 67,
   "metadata": {},
   "outputs": [
    {
     "data": {
      "text/plain": [
       "0    11\n",
       "1     8\n",
       "2     6\n",
       "3     6\n",
       "4     6\n",
       "Name: max_topic, dtype: object"
      ]
     },
     "execution_count": 67,
     "metadata": {},
     "output_type": "execute_result"
    }
   ],
   "source": [
    "comparison_group = pd.concat([fake_users,low_cap])\n",
    "comparison_group['max_topic'].head(5)"
   ]
  },
  {
   "cell_type": "code",
   "execution_count": 68,
   "metadata": {},
   "outputs": [],
   "source": [
    "comparison_group.sort_values('res_3hour', ascending=False, inplace=True)\n"
   ]
  },
  {
   "cell_type": "code",
   "execution_count": 69,
   "metadata": {},
   "outputs": [
    {
     "data": {
      "text/plain": [
       "(1819, 31)"
      ]
     },
     "execution_count": 69,
     "metadata": {},
     "output_type": "execute_result"
    }
   ],
   "source": [
    "comparison_group.shape"
   ]
  },
  {
   "cell_type": "code",
   "execution_count": 70,
   "metadata": {},
   "outputs": [
    {
     "data": {
      "text/plain": [
       "user_id                    884\n",
       "status_id                  884\n",
       "created_at                 884\n",
       "screen_name                884\n",
       "text                       884\n",
       "is_retweet                 884\n",
       "favorite_count             884\n",
       "retweet_count              884\n",
       "hashtags                   194\n",
       "mentions_screen_name       782\n",
       "retweet_favorite_count     752\n",
       "retweet_followers_count    752\n",
       "retweet_friends_count      752\n",
       "retweet_verified           752\n",
       "description                714\n",
       "followers_count            884\n",
       "friends_count              884\n",
       "statuses_count             884\n",
       "account_created_at         884\n",
       "verified                   884\n",
       "location                   463\n",
       "cap                        884\n",
       "type                       884\n",
       "type_n                     884\n",
       "max_topic                  884\n",
       "nov_3hour                  127\n",
       "trans_3hour                127\n",
       "res_3hour                  127\n",
       "nov_20min                  157\n",
       "trans_20min                157\n",
       "res_20min                  157\n",
       "dtype: int64"
      ]
     },
     "execution_count": 70,
     "metadata": {},
     "output_type": "execute_result"
    }
   ],
   "source": [
    "comparison_group[comparison_group['type']=='bot'].count()"
   ]
  },
  {
   "cell_type": "code",
   "execution_count": 71,
   "metadata": {},
   "outputs": [
    {
     "data": {
      "text/html": [
       "<div>\n",
       "<style scoped>\n",
       "    .dataframe tbody tr th:only-of-type {\n",
       "        vertical-align: middle;\n",
       "    }\n",
       "\n",
       "    .dataframe tbody tr th {\n",
       "        vertical-align: top;\n",
       "    }\n",
       "\n",
       "    .dataframe thead th {\n",
       "        text-align: right;\n",
       "    }\n",
       "</style>\n",
       "<table border=\"1\" class=\"dataframe\">\n",
       "  <thead>\n",
       "    <tr style=\"text-align: right;\">\n",
       "      <th></th>\n",
       "      <th>max_topic</th>\n",
       "      <th>type</th>\n",
       "      <th>Resonance</th>\n",
       "    </tr>\n",
       "  </thead>\n",
       "  <tbody>\n",
       "    <tr>\n",
       "      <th>0</th>\n",
       "      <td>0</td>\n",
       "      <td>bot</td>\n",
       "      <td>0.111344</td>\n",
       "    </tr>\n",
       "    <tr>\n",
       "      <th>1</th>\n",
       "      <td>0</td>\n",
       "      <td>user</td>\n",
       "      <td>-0.049515</td>\n",
       "    </tr>\n",
       "    <tr>\n",
       "      <th>2</th>\n",
       "      <td>1</td>\n",
       "      <td>bot</td>\n",
       "      <td>0.005489</td>\n",
       "    </tr>\n",
       "    <tr>\n",
       "      <th>3</th>\n",
       "      <td>1</td>\n",
       "      <td>user</td>\n",
       "      <td>-0.087736</td>\n",
       "    </tr>\n",
       "    <tr>\n",
       "      <th>12</th>\n",
       "      <td>2</td>\n",
       "      <td>bot</td>\n",
       "      <td>0.044936</td>\n",
       "    </tr>\n",
       "    <tr>\n",
       "      <th>13</th>\n",
       "      <td>2</td>\n",
       "      <td>user</td>\n",
       "      <td>0.119140</td>\n",
       "    </tr>\n",
       "    <tr>\n",
       "      <th>14</th>\n",
       "      <td>3</td>\n",
       "      <td>bot</td>\n",
       "      <td>0.104921</td>\n",
       "    </tr>\n",
       "    <tr>\n",
       "      <th>15</th>\n",
       "      <td>3</td>\n",
       "      <td>user</td>\n",
       "      <td>0.034120</td>\n",
       "    </tr>\n",
       "    <tr>\n",
       "      <th>16</th>\n",
       "      <td>4</td>\n",
       "      <td>bot</td>\n",
       "      <td>0.250805</td>\n",
       "    </tr>\n",
       "    <tr>\n",
       "      <th>17</th>\n",
       "      <td>4</td>\n",
       "      <td>user</td>\n",
       "      <td>-0.058898</td>\n",
       "    </tr>\n",
       "    <tr>\n",
       "      <th>19</th>\n",
       "      <td>5</td>\n",
       "      <td>user</td>\n",
       "      <td>0.062643</td>\n",
       "    </tr>\n",
       "    <tr>\n",
       "      <th>18</th>\n",
       "      <td>5</td>\n",
       "      <td>bot</td>\n",
       "      <td>0.114102</td>\n",
       "    </tr>\n",
       "    <tr>\n",
       "      <th>21</th>\n",
       "      <td>6</td>\n",
       "      <td>user</td>\n",
       "      <td>-0.020591</td>\n",
       "    </tr>\n",
       "    <tr>\n",
       "      <th>20</th>\n",
       "      <td>6</td>\n",
       "      <td>bot</td>\n",
       "      <td>0.706407</td>\n",
       "    </tr>\n",
       "    <tr>\n",
       "      <th>23</th>\n",
       "      <td>7</td>\n",
       "      <td>user</td>\n",
       "      <td>0.111514</td>\n",
       "    </tr>\n",
       "    <tr>\n",
       "      <th>22</th>\n",
       "      <td>7</td>\n",
       "      <td>bot</td>\n",
       "      <td>-0.266783</td>\n",
       "    </tr>\n",
       "    <tr>\n",
       "      <th>25</th>\n",
       "      <td>8</td>\n",
       "      <td>user</td>\n",
       "      <td>-0.031417</td>\n",
       "    </tr>\n",
       "    <tr>\n",
       "      <th>24</th>\n",
       "      <td>8</td>\n",
       "      <td>bot</td>\n",
       "      <td>0.012662</td>\n",
       "    </tr>\n",
       "    <tr>\n",
       "      <th>27</th>\n",
       "      <td>9</td>\n",
       "      <td>user</td>\n",
       "      <td>-0.102506</td>\n",
       "    </tr>\n",
       "    <tr>\n",
       "      <th>26</th>\n",
       "      <td>9</td>\n",
       "      <td>bot</td>\n",
       "      <td>-0.121476</td>\n",
       "    </tr>\n",
       "    <tr>\n",
       "      <th>4</th>\n",
       "      <td>10</td>\n",
       "      <td>bot</td>\n",
       "      <td>0.259103</td>\n",
       "    </tr>\n",
       "    <tr>\n",
       "      <th>5</th>\n",
       "      <td>10</td>\n",
       "      <td>user</td>\n",
       "      <td>0.175690</td>\n",
       "    </tr>\n",
       "    <tr>\n",
       "      <th>7</th>\n",
       "      <td>11</td>\n",
       "      <td>user</td>\n",
       "      <td>0.112059</td>\n",
       "    </tr>\n",
       "    <tr>\n",
       "      <th>6</th>\n",
       "      <td>11</td>\n",
       "      <td>bot</td>\n",
       "      <td>-0.047997</td>\n",
       "    </tr>\n",
       "    <tr>\n",
       "      <th>9</th>\n",
       "      <td>12</td>\n",
       "      <td>user</td>\n",
       "      <td>-0.078542</td>\n",
       "    </tr>\n",
       "    <tr>\n",
       "      <th>8</th>\n",
       "      <td>12</td>\n",
       "      <td>bot</td>\n",
       "      <td>-0.062459</td>\n",
       "    </tr>\n",
       "    <tr>\n",
       "      <th>11</th>\n",
       "      <td>13</td>\n",
       "      <td>user</td>\n",
       "      <td>0.268698</td>\n",
       "    </tr>\n",
       "    <tr>\n",
       "      <th>10</th>\n",
       "      <td>13</td>\n",
       "      <td>bot</td>\n",
       "      <td>-0.004262</td>\n",
       "    </tr>\n",
       "  </tbody>\n",
       "</table>\n",
       "</div>"
      ],
      "text/plain": [
       "    max_topic  type  Resonance\n",
       "0           0   bot   0.111344\n",
       "1           0  user  -0.049515\n",
       "2           1   bot   0.005489\n",
       "3           1  user  -0.087736\n",
       "12          2   bot   0.044936\n",
       "13          2  user   0.119140\n",
       "14          3   bot   0.104921\n",
       "15          3  user   0.034120\n",
       "16          4   bot   0.250805\n",
       "17          4  user  -0.058898\n",
       "19          5  user   0.062643\n",
       "18          5   bot   0.114102\n",
       "21          6  user  -0.020591\n",
       "20          6   bot   0.706407\n",
       "23          7  user   0.111514\n",
       "22          7   bot  -0.266783\n",
       "25          8  user  -0.031417\n",
       "24          8   bot   0.012662\n",
       "27          9  user  -0.102506\n",
       "26          9   bot  -0.121476\n",
       "4          10   bot   0.259103\n",
       "5          10  user   0.175690\n",
       "7          11  user   0.112059\n",
       "6          11   bot  -0.047997\n",
       "9          12  user  -0.078542\n",
       "8          12   bot  -0.062459\n",
       "11         13  user   0.268698\n",
       "10         13   bot  -0.004262"
      ]
     },
     "execution_count": 71,
     "metadata": {},
     "output_type": "execute_result"
    }
   ],
   "source": [
    "#calculate the average resonance for each topic, for each type of account\n",
    "mean_res = comparison_group.groupby(['max_topic', 'type'])['res_3hour'].mean()\n",
    "mean_res = pd.DataFrame(mean_res)\n",
    "mean_res = mean_res.rename(columns={'res_3hour':'Resonance'}).reset_index()\n",
    "mean_res['max_topic'] = mean_res['max_topic'].apply(int)\n",
    "mean_res.sort_values('max_topic', ascending=True, inplace=True)\n",
    "mean_res"
   ]
  },
  {
   "cell_type": "code",
   "execution_count": 72,
   "metadata": {},
   "outputs": [],
   "source": [
    "#calculate the max influence for each topic, for each type of account\n",
    "max_res = comparison_group.groupby(['max_topic', 'type'])['res_3hour'].max()\n",
    "max_res = pd.DataFrame(max_res)\n",
    "max_res = max_res.rename(columns={'res_3hour':'Max_Resonance'}).reset_index()\n",
    "max_res['max_topic'] = max_res['max_topic'].apply(int)\n",
    "max_res.sort_values('max_topic', ascending=True, inplace=True)"
   ]
  },
  {
   "cell_type": "code",
   "execution_count": 73,
   "metadata": {},
   "outputs": [
    {
     "data": {
      "text/html": [
       "<div>\n",
       "<style scoped>\n",
       "    .dataframe tbody tr th:only-of-type {\n",
       "        vertical-align: middle;\n",
       "    }\n",
       "\n",
       "    .dataframe tbody tr th {\n",
       "        vertical-align: top;\n",
       "    }\n",
       "\n",
       "    .dataframe thead th {\n",
       "        text-align: right;\n",
       "    }\n",
       "</style>\n",
       "<table border=\"1\" class=\"dataframe\">\n",
       "  <thead>\n",
       "    <tr style=\"text-align: right;\">\n",
       "      <th></th>\n",
       "      <th>max_topic</th>\n",
       "      <th>type</th>\n",
       "      <th>Max_Resonance</th>\n",
       "    </tr>\n",
       "  </thead>\n",
       "  <tbody>\n",
       "    <tr>\n",
       "      <th>0</th>\n",
       "      <td>0</td>\n",
       "      <td>bot</td>\n",
       "      <td>0.388018</td>\n",
       "    </tr>\n",
       "    <tr>\n",
       "      <th>1</th>\n",
       "      <td>0</td>\n",
       "      <td>user</td>\n",
       "      <td>0.582769</td>\n",
       "    </tr>\n",
       "    <tr>\n",
       "      <th>2</th>\n",
       "      <td>1</td>\n",
       "      <td>bot</td>\n",
       "      <td>0.167525</td>\n",
       "    </tr>\n",
       "    <tr>\n",
       "      <th>3</th>\n",
       "      <td>1</td>\n",
       "      <td>user</td>\n",
       "      <td>0.788376</td>\n",
       "    </tr>\n",
       "    <tr>\n",
       "      <th>12</th>\n",
       "      <td>2</td>\n",
       "      <td>bot</td>\n",
       "      <td>0.364775</td>\n",
       "    </tr>\n",
       "    <tr>\n",
       "      <th>13</th>\n",
       "      <td>2</td>\n",
       "      <td>user</td>\n",
       "      <td>0.454760</td>\n",
       "    </tr>\n",
       "    <tr>\n",
       "      <th>14</th>\n",
       "      <td>3</td>\n",
       "      <td>bot</td>\n",
       "      <td>0.710840</td>\n",
       "    </tr>\n",
       "    <tr>\n",
       "      <th>15</th>\n",
       "      <td>3</td>\n",
       "      <td>user</td>\n",
       "      <td>0.671375</td>\n",
       "    </tr>\n",
       "    <tr>\n",
       "      <th>16</th>\n",
       "      <td>4</td>\n",
       "      <td>bot</td>\n",
       "      <td>0.578815</td>\n",
       "    </tr>\n",
       "    <tr>\n",
       "      <th>17</th>\n",
       "      <td>4</td>\n",
       "      <td>user</td>\n",
       "      <td>0.737446</td>\n",
       "    </tr>\n",
       "    <tr>\n",
       "      <th>19</th>\n",
       "      <td>5</td>\n",
       "      <td>user</td>\n",
       "      <td>0.610541</td>\n",
       "    </tr>\n",
       "    <tr>\n",
       "      <th>18</th>\n",
       "      <td>5</td>\n",
       "      <td>bot</td>\n",
       "      <td>0.683439</td>\n",
       "    </tr>\n",
       "    <tr>\n",
       "      <th>21</th>\n",
       "      <td>6</td>\n",
       "      <td>user</td>\n",
       "      <td>1.326335</td>\n",
       "    </tr>\n",
       "    <tr>\n",
       "      <th>20</th>\n",
       "      <td>6</td>\n",
       "      <td>bot</td>\n",
       "      <td>0.706407</td>\n",
       "    </tr>\n",
       "    <tr>\n",
       "      <th>23</th>\n",
       "      <td>7</td>\n",
       "      <td>user</td>\n",
       "      <td>1.122935</td>\n",
       "    </tr>\n",
       "    <tr>\n",
       "      <th>22</th>\n",
       "      <td>7</td>\n",
       "      <td>bot</td>\n",
       "      <td>0.297514</td>\n",
       "    </tr>\n",
       "    <tr>\n",
       "      <th>25</th>\n",
       "      <td>8</td>\n",
       "      <td>user</td>\n",
       "      <td>0.375067</td>\n",
       "    </tr>\n",
       "    <tr>\n",
       "      <th>24</th>\n",
       "      <td>8</td>\n",
       "      <td>bot</td>\n",
       "      <td>0.443031</td>\n",
       "    </tr>\n",
       "    <tr>\n",
       "      <th>27</th>\n",
       "      <td>9</td>\n",
       "      <td>user</td>\n",
       "      <td>0.778473</td>\n",
       "    </tr>\n",
       "    <tr>\n",
       "      <th>26</th>\n",
       "      <td>9</td>\n",
       "      <td>bot</td>\n",
       "      <td>0.650629</td>\n",
       "    </tr>\n",
       "    <tr>\n",
       "      <th>4</th>\n",
       "      <td>10</td>\n",
       "      <td>bot</td>\n",
       "      <td>0.259103</td>\n",
       "    </tr>\n",
       "    <tr>\n",
       "      <th>5</th>\n",
       "      <td>10</td>\n",
       "      <td>user</td>\n",
       "      <td>0.870294</td>\n",
       "    </tr>\n",
       "    <tr>\n",
       "      <th>7</th>\n",
       "      <td>11</td>\n",
       "      <td>user</td>\n",
       "      <td>0.548521</td>\n",
       "    </tr>\n",
       "    <tr>\n",
       "      <th>6</th>\n",
       "      <td>11</td>\n",
       "      <td>bot</td>\n",
       "      <td>0.744784</td>\n",
       "    </tr>\n",
       "    <tr>\n",
       "      <th>9</th>\n",
       "      <td>12</td>\n",
       "      <td>user</td>\n",
       "      <td>0.468383</td>\n",
       "    </tr>\n",
       "    <tr>\n",
       "      <th>8</th>\n",
       "      <td>12</td>\n",
       "      <td>bot</td>\n",
       "      <td>0.693673</td>\n",
       "    </tr>\n",
       "    <tr>\n",
       "      <th>11</th>\n",
       "      <td>13</td>\n",
       "      <td>user</td>\n",
       "      <td>1.202531</td>\n",
       "    </tr>\n",
       "    <tr>\n",
       "      <th>10</th>\n",
       "      <td>13</td>\n",
       "      <td>bot</td>\n",
       "      <td>0.204327</td>\n",
       "    </tr>\n",
       "  </tbody>\n",
       "</table>\n",
       "</div>"
      ],
      "text/plain": [
       "    max_topic  type  Max_Resonance\n",
       "0           0   bot       0.388018\n",
       "1           0  user       0.582769\n",
       "2           1   bot       0.167525\n",
       "3           1  user       0.788376\n",
       "12          2   bot       0.364775\n",
       "13          2  user       0.454760\n",
       "14          3   bot       0.710840\n",
       "15          3  user       0.671375\n",
       "16          4   bot       0.578815\n",
       "17          4  user       0.737446\n",
       "19          5  user       0.610541\n",
       "18          5   bot       0.683439\n",
       "21          6  user       1.326335\n",
       "20          6   bot       0.706407\n",
       "23          7  user       1.122935\n",
       "22          7   bot       0.297514\n",
       "25          8  user       0.375067\n",
       "24          8   bot       0.443031\n",
       "27          9  user       0.778473\n",
       "26          9   bot       0.650629\n",
       "4          10   bot       0.259103\n",
       "5          10  user       0.870294\n",
       "7          11  user       0.548521\n",
       "6          11   bot       0.744784\n",
       "9          12  user       0.468383\n",
       "8          12   bot       0.693673\n",
       "11         13  user       1.202531\n",
       "10         13   bot       0.204327"
      ]
     },
     "execution_count": 73,
     "metadata": {},
     "output_type": "execute_result"
    }
   ],
   "source": [
    "max_res"
   ]
  },
  {
   "cell_type": "code",
   "execution_count": 126,
   "metadata": {},
   "outputs": [
    {
     "data": {
      "image/png": "[encoded data removed]",
      "text/plain": [
       "<Figure size 576x432 with 1 Axes>"
      ]
     },
     "metadata": {
      "needs_background": "light"
     },
     "output_type": "display_data"
    }
   ],
   "source": [
    "#create a barplot with the average resonance for each topic for each type of account\n",
    "# set width of bar\n",
    "barWidth = 0.25\n",
    " \n",
    "# set heights of bar and max points\n",
    "bot = mean_res[mean_res['type']=='bot']['Resonance']\n",
    "user = mean_res[mean_res['type']=='user']['Resonance']\n",
    "topics = mean_res.drop_duplicates(['max_topic'])['max_topic']\n",
    "\n",
    "# Set position of bar on X axis\n",
    "r1 = np.arange(len(bot))\n",
    "r2 = [x + barWidth for x in r1]\n",
    "\n",
    "#create the figure\n",
    "fig, ax = plt.subplots(figsize=(8,6))\n",
    " \n",
    "# Make the plot\n",
    "ax.bar(r1, bot, color='tab:cyan', width=barWidth, edgecolor='white', label='Bot', alpha=0.8)\n",
    "ax.bar(r2, user, color='tab:blue', width=barWidth, edgecolor='white', label='User', alpha=0.8)\n",
    "\n",
    "# Add xticks on the middle of the group bars\n",
    "plt.xlabel('Topics', fontweight='bold', fontsize=16)\n",
    "plt.ylabel('Resonance', fontsize=16)\n",
    "plt.title('Figure 14: Mean Resonance Measures by Topic', fontsize=18)\n",
    "plt.xticks([r + barWidth for r in range(len(bot))], topics)\n",
    "#plt.yticks(np.arange(0,30))\n",
    "ax.spines['top'].set_visible(False)\n",
    "ax.spines['right'].set_visible(False)\n",
    " \n",
    "# Create legend & save graphic\n",
    "plt.legend(loc='best', fontsize=16)\n",
    "plt.savefig(\"resonance_measures.png\", format = 'png', bbox_inches='tight')"
   ]
  },
  {
   "cell_type": "code",
   "execution_count": 127,
   "metadata": {},
   "outputs": [
    {
     "data": {
      "image/png": "[encoded data removed]",
      "text/plain": [
       "<Figure size 576x432 with 1 Axes>"
      ]
     },
     "metadata": {
      "needs_background": "light"
     },
     "output_type": "display_data"
    }
   ],
   "source": [
    "#create a barplot with the max resonance for each topic, for each type of account\n",
    "# set width of bar\n",
    "barWidth = 0.25\n",
    " \n",
    "# set heights of bar and max points\n",
    "max_bot = max_res[max_res['type']=='bot']['Max_Resonance']\n",
    "max_user = max_res[max_res['type']=='user']['Max_Resonance']\n",
    "topics = mean_res.drop_duplicates(['max_topic'])['max_topic']\n",
    "\n",
    "# Set position of bar on X axis\n",
    "r1 = np.arange(len(max_bot))\n",
    "r2 = [x + barWidth for x in r1]\n",
    "\n",
    "#create the figure\n",
    "fig, ax = plt.subplots(figsize=(8,6))\n",
    " \n",
    "# Make the plot\n",
    "ax.bar(r1, max_bot, color='tab:cyan', width=barWidth, edgecolor='white', label='Bot', alpha=0.8)\n",
    "ax.bar(r2, max_user, color='tab:blue', width=barWidth, edgecolor='white', label='User', alpha=0.8)\n",
    "\n",
    "# Add xticks on the middle of the group bars\n",
    "plt.xlabel('Topics', fontweight='bold', fontsize=16)\n",
    "plt.ylabel('Resonance', fontsize=16)\n",
    "plt.title('Figure 15: Max Resonance Measures by Topic', fontsize=18)\n",
    "plt.xticks([r + barWidth for r in range(len(bot))], topics)\n",
    "#plt.yticks(np.arange(0,30))\n",
    "ax.spines['top'].set_visible(False)\n",
    "ax.spines['right'].set_visible(False)\n",
    " \n",
    "# Create legend & Show graphic\n",
    "plt.legend(loc='best', fontsize=16)\n",
    "plt.savefig(\"resonance_measures.png\", format = 'png', bbox_inches='tight')"
   ]
  }
 ],
 "metadata": {
  "kernelspec": {
   "display_name": "Python 3",
   "language": "python",
   "name": "python3"
  },
  "language_info": {
   "codemirror_mode": {
    "name": "ipython",
    "version": 3
   },
   "file_extension": ".py",
   "mimetype": "text/x-python",
   "name": "python",
   "nbconvert_exporter": "python",
   "pygments_lexer": "ipython3",
   "version": "3.7.1"
  }
 },
 "nbformat": 4,
 "nbformat_minor": 4
}
